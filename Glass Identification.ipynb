{
 "cells": [
  {
   "cell_type": "code",
   "execution_count": 1,
   "metadata": {},
   "outputs": [],
   "source": [
    "import pandas as pd\n",
    "import numpy as np\n",
    "import seaborn as sns\n",
    "import matplotlib.pyplot as plt\n",
    "import sklearn\n",
    "from sklearn.model_selection import train_test_split\n",
    "from sklearn.metrics import mean_squared_error, mean_absolute_error, r2_score, classification_report"
   ]
  },
  {
   "cell_type": "code",
   "execution_count": 2,
   "metadata": {},
   "outputs": [
    {
     "data": {
      "text/html": [
       "<div>\n",
       "<style scoped>\n",
       "    .dataframe tbody tr th:only-of-type {\n",
       "        vertical-align: middle;\n",
       "    }\n",
       "\n",
       "    .dataframe tbody tr th {\n",
       "        vertical-align: top;\n",
       "    }\n",
       "\n",
       "    .dataframe thead th {\n",
       "        text-align: right;\n",
       "    }\n",
       "</style>\n",
       "<table border=\"1\" class=\"dataframe\">\n",
       "  <thead>\n",
       "    <tr style=\"text-align: right;\">\n",
       "      <th></th>\n",
       "      <th>A</th>\n",
       "      <th>B</th>\n",
       "      <th>C</th>\n",
       "      <th>D</th>\n",
       "      <th>E</th>\n",
       "      <th>F</th>\n",
       "      <th>G</th>\n",
       "      <th>H</th>\n",
       "      <th>I</th>\n",
       "      <th>J</th>\n",
       "      <th>K</th>\n",
       "    </tr>\n",
       "  </thead>\n",
       "  <tbody>\n",
       "    <tr>\n",
       "      <th>0</th>\n",
       "      <td>1</td>\n",
       "      <td>1.52101</td>\n",
       "      <td>13.64</td>\n",
       "      <td>4.49</td>\n",
       "      <td>1.10</td>\n",
       "      <td>71.78</td>\n",
       "      <td>0.06</td>\n",
       "      <td>8.75</td>\n",
       "      <td>0.00</td>\n",
       "      <td>0.0</td>\n",
       "      <td>1</td>\n",
       "    </tr>\n",
       "    <tr>\n",
       "      <th>1</th>\n",
       "      <td>2</td>\n",
       "      <td>1.51761</td>\n",
       "      <td>13.89</td>\n",
       "      <td>3.60</td>\n",
       "      <td>1.36</td>\n",
       "      <td>72.73</td>\n",
       "      <td>0.48</td>\n",
       "      <td>7.83</td>\n",
       "      <td>0.00</td>\n",
       "      <td>0.0</td>\n",
       "      <td>1</td>\n",
       "    </tr>\n",
       "    <tr>\n",
       "      <th>2</th>\n",
       "      <td>3</td>\n",
       "      <td>1.51618</td>\n",
       "      <td>13.53</td>\n",
       "      <td>3.55</td>\n",
       "      <td>1.54</td>\n",
       "      <td>72.99</td>\n",
       "      <td>0.39</td>\n",
       "      <td>7.78</td>\n",
       "      <td>0.00</td>\n",
       "      <td>0.0</td>\n",
       "      <td>1</td>\n",
       "    </tr>\n",
       "    <tr>\n",
       "      <th>3</th>\n",
       "      <td>4</td>\n",
       "      <td>1.51766</td>\n",
       "      <td>13.21</td>\n",
       "      <td>3.69</td>\n",
       "      <td>1.29</td>\n",
       "      <td>72.61</td>\n",
       "      <td>0.57</td>\n",
       "      <td>8.22</td>\n",
       "      <td>0.00</td>\n",
       "      <td>0.0</td>\n",
       "      <td>1</td>\n",
       "    </tr>\n",
       "    <tr>\n",
       "      <th>4</th>\n",
       "      <td>5</td>\n",
       "      <td>1.51742</td>\n",
       "      <td>13.27</td>\n",
       "      <td>3.62</td>\n",
       "      <td>1.24</td>\n",
       "      <td>73.08</td>\n",
       "      <td>0.55</td>\n",
       "      <td>8.07</td>\n",
       "      <td>0.00</td>\n",
       "      <td>0.0</td>\n",
       "      <td>1</td>\n",
       "    </tr>\n",
       "    <tr>\n",
       "      <th>...</th>\n",
       "      <td>...</td>\n",
       "      <td>...</td>\n",
       "      <td>...</td>\n",
       "      <td>...</td>\n",
       "      <td>...</td>\n",
       "      <td>...</td>\n",
       "      <td>...</td>\n",
       "      <td>...</td>\n",
       "      <td>...</td>\n",
       "      <td>...</td>\n",
       "      <td>...</td>\n",
       "    </tr>\n",
       "    <tr>\n",
       "      <th>209</th>\n",
       "      <td>210</td>\n",
       "      <td>1.51623</td>\n",
       "      <td>14.14</td>\n",
       "      <td>0.00</td>\n",
       "      <td>2.88</td>\n",
       "      <td>72.61</td>\n",
       "      <td>0.08</td>\n",
       "      <td>9.18</td>\n",
       "      <td>1.06</td>\n",
       "      <td>0.0</td>\n",
       "      <td>7</td>\n",
       "    </tr>\n",
       "    <tr>\n",
       "      <th>210</th>\n",
       "      <td>211</td>\n",
       "      <td>1.51685</td>\n",
       "      <td>14.92</td>\n",
       "      <td>0.00</td>\n",
       "      <td>1.99</td>\n",
       "      <td>73.06</td>\n",
       "      <td>0.00</td>\n",
       "      <td>8.40</td>\n",
       "      <td>1.59</td>\n",
       "      <td>0.0</td>\n",
       "      <td>7</td>\n",
       "    </tr>\n",
       "    <tr>\n",
       "      <th>211</th>\n",
       "      <td>212</td>\n",
       "      <td>1.52065</td>\n",
       "      <td>14.36</td>\n",
       "      <td>0.00</td>\n",
       "      <td>2.02</td>\n",
       "      <td>73.42</td>\n",
       "      <td>0.00</td>\n",
       "      <td>8.44</td>\n",
       "      <td>1.64</td>\n",
       "      <td>0.0</td>\n",
       "      <td>7</td>\n",
       "    </tr>\n",
       "    <tr>\n",
       "      <th>212</th>\n",
       "      <td>213</td>\n",
       "      <td>1.51651</td>\n",
       "      <td>14.38</td>\n",
       "      <td>0.00</td>\n",
       "      <td>1.94</td>\n",
       "      <td>73.61</td>\n",
       "      <td>0.00</td>\n",
       "      <td>8.48</td>\n",
       "      <td>1.57</td>\n",
       "      <td>0.0</td>\n",
       "      <td>7</td>\n",
       "    </tr>\n",
       "    <tr>\n",
       "      <th>213</th>\n",
       "      <td>214</td>\n",
       "      <td>1.51711</td>\n",
       "      <td>14.23</td>\n",
       "      <td>0.00</td>\n",
       "      <td>2.08</td>\n",
       "      <td>73.36</td>\n",
       "      <td>0.00</td>\n",
       "      <td>8.62</td>\n",
       "      <td>1.67</td>\n",
       "      <td>0.0</td>\n",
       "      <td>7</td>\n",
       "    </tr>\n",
       "  </tbody>\n",
       "</table>\n",
       "<p>214 rows × 11 columns</p>\n",
       "</div>"
      ],
      "text/plain": [
       "       A        B      C     D     E      F     G     H     I    J  K\n",
       "0      1  1.52101  13.64  4.49  1.10  71.78  0.06  8.75  0.00  0.0  1\n",
       "1      2  1.51761  13.89  3.60  1.36  72.73  0.48  7.83  0.00  0.0  1\n",
       "2      3  1.51618  13.53  3.55  1.54  72.99  0.39  7.78  0.00  0.0  1\n",
       "3      4  1.51766  13.21  3.69  1.29  72.61  0.57  8.22  0.00  0.0  1\n",
       "4      5  1.51742  13.27  3.62  1.24  73.08  0.55  8.07  0.00  0.0  1\n",
       "..   ...      ...    ...   ...   ...    ...   ...   ...   ...  ... ..\n",
       "209  210  1.51623  14.14  0.00  2.88  72.61  0.08  9.18  1.06  0.0  7\n",
       "210  211  1.51685  14.92  0.00  1.99  73.06  0.00  8.40  1.59  0.0  7\n",
       "211  212  1.52065  14.36  0.00  2.02  73.42  0.00  8.44  1.64  0.0  7\n",
       "212  213  1.51651  14.38  0.00  1.94  73.61  0.00  8.48  1.57  0.0  7\n",
       "213  214  1.51711  14.23  0.00  2.08  73.36  0.00  8.62  1.67  0.0  7\n",
       "\n",
       "[214 rows x 11 columns]"
      ]
     },
     "execution_count": 2,
     "metadata": {},
     "output_type": "execute_result"
    }
   ],
   "source": [
    "glass_data = pd.read_csv(\"D:\\Amir Ali\\Data Science\\Datasets projects\\dataset3-main\\glass.csv\")\n",
    "glass_data"
   ]
  },
  {
   "cell_type": "code",
   "execution_count": 3,
   "metadata": {},
   "outputs": [],
   "source": [
    "columns_name = [ \"Id number\", \"RI: refractive index\", \"Na\", \"Mg\",\"Al\",\"Si\",\"K\",\"Ca\",\"Ba\",\"Fe\",\"Type of glass\"]\n",
    "glass_data.columns = columns_name"
   ]
  },
  {
   "cell_type": "code",
   "execution_count": 4,
   "metadata": {},
   "outputs": [
    {
     "data": {
      "text/html": [
       "<div>\n",
       "<style scoped>\n",
       "    .dataframe tbody tr th:only-of-type {\n",
       "        vertical-align: middle;\n",
       "    }\n",
       "\n",
       "    .dataframe tbody tr th {\n",
       "        vertical-align: top;\n",
       "    }\n",
       "\n",
       "    .dataframe thead th {\n",
       "        text-align: right;\n",
       "    }\n",
       "</style>\n",
       "<table border=\"1\" class=\"dataframe\">\n",
       "  <thead>\n",
       "    <tr style=\"text-align: right;\">\n",
       "      <th></th>\n",
       "      <th>Id number</th>\n",
       "      <th>RI: refractive index</th>\n",
       "      <th>Na</th>\n",
       "      <th>Mg</th>\n",
       "      <th>Al</th>\n",
       "      <th>Si</th>\n",
       "      <th>K</th>\n",
       "      <th>Ca</th>\n",
       "      <th>Ba</th>\n",
       "      <th>Fe</th>\n",
       "      <th>Type of glass</th>\n",
       "    </tr>\n",
       "  </thead>\n",
       "  <tbody>\n",
       "    <tr>\n",
       "      <th>0</th>\n",
       "      <td>1</td>\n",
       "      <td>1.52101</td>\n",
       "      <td>13.64</td>\n",
       "      <td>4.49</td>\n",
       "      <td>1.10</td>\n",
       "      <td>71.78</td>\n",
       "      <td>0.06</td>\n",
       "      <td>8.75</td>\n",
       "      <td>0.0</td>\n",
       "      <td>0.0</td>\n",
       "      <td>1</td>\n",
       "    </tr>\n",
       "    <tr>\n",
       "      <th>1</th>\n",
       "      <td>2</td>\n",
       "      <td>1.51761</td>\n",
       "      <td>13.89</td>\n",
       "      <td>3.60</td>\n",
       "      <td>1.36</td>\n",
       "      <td>72.73</td>\n",
       "      <td>0.48</td>\n",
       "      <td>7.83</td>\n",
       "      <td>0.0</td>\n",
       "      <td>0.0</td>\n",
       "      <td>1</td>\n",
       "    </tr>\n",
       "    <tr>\n",
       "      <th>2</th>\n",
       "      <td>3</td>\n",
       "      <td>1.51618</td>\n",
       "      <td>13.53</td>\n",
       "      <td>3.55</td>\n",
       "      <td>1.54</td>\n",
       "      <td>72.99</td>\n",
       "      <td>0.39</td>\n",
       "      <td>7.78</td>\n",
       "      <td>0.0</td>\n",
       "      <td>0.0</td>\n",
       "      <td>1</td>\n",
       "    </tr>\n",
       "    <tr>\n",
       "      <th>3</th>\n",
       "      <td>4</td>\n",
       "      <td>1.51766</td>\n",
       "      <td>13.21</td>\n",
       "      <td>3.69</td>\n",
       "      <td>1.29</td>\n",
       "      <td>72.61</td>\n",
       "      <td>0.57</td>\n",
       "      <td>8.22</td>\n",
       "      <td>0.0</td>\n",
       "      <td>0.0</td>\n",
       "      <td>1</td>\n",
       "    </tr>\n",
       "    <tr>\n",
       "      <th>4</th>\n",
       "      <td>5</td>\n",
       "      <td>1.51742</td>\n",
       "      <td>13.27</td>\n",
       "      <td>3.62</td>\n",
       "      <td>1.24</td>\n",
       "      <td>73.08</td>\n",
       "      <td>0.55</td>\n",
       "      <td>8.07</td>\n",
       "      <td>0.0</td>\n",
       "      <td>0.0</td>\n",
       "      <td>1</td>\n",
       "    </tr>\n",
       "  </tbody>\n",
       "</table>\n",
       "</div>"
      ],
      "text/plain": [
       "   Id number  RI: refractive index     Na    Mg    Al     Si     K    Ca   Ba  \\\n",
       "0          1               1.52101  13.64  4.49  1.10  71.78  0.06  8.75  0.0   \n",
       "1          2               1.51761  13.89  3.60  1.36  72.73  0.48  7.83  0.0   \n",
       "2          3               1.51618  13.53  3.55  1.54  72.99  0.39  7.78  0.0   \n",
       "3          4               1.51766  13.21  3.69  1.29  72.61  0.57  8.22  0.0   \n",
       "4          5               1.51742  13.27  3.62  1.24  73.08  0.55  8.07  0.0   \n",
       "\n",
       "    Fe  Type of glass  \n",
       "0  0.0              1  \n",
       "1  0.0              1  \n",
       "2  0.0              1  \n",
       "3  0.0              1  \n",
       "4  0.0              1  "
      ]
     },
     "execution_count": 4,
     "metadata": {},
     "output_type": "execute_result"
    }
   ],
   "source": [
    "glass_data.head()"
   ]
  },
  {
   "cell_type": "code",
   "execution_count": 5,
   "metadata": {},
   "outputs": [
    {
     "name": "stdout",
     "output_type": "stream",
     "text": [
      "<class 'pandas.core.frame.DataFrame'>\n",
      "RangeIndex: 214 entries, 0 to 213\n",
      "Data columns (total 11 columns):\n",
      " #   Column                Non-Null Count  Dtype  \n",
      "---  ------                --------------  -----  \n",
      " 0   Id number             214 non-null    int64  \n",
      " 1   RI: refractive index  214 non-null    float64\n",
      " 2   Na                    214 non-null    float64\n",
      " 3   Mg                    214 non-null    float64\n",
      " 4   Al                    214 non-null    float64\n",
      " 5   Si                    214 non-null    float64\n",
      " 6   K                     214 non-null    float64\n",
      " 7   Ca                    214 non-null    float64\n",
      " 8   Ba                    214 non-null    float64\n",
      " 9   Fe                    214 non-null    float64\n",
      " 10  Type of glass         214 non-null    int64  \n",
      "dtypes: float64(9), int64(2)\n",
      "memory usage: 18.5 KB\n"
     ]
    }
   ],
   "source": [
    "glass_data.info()"
   ]
  },
  {
   "cell_type": "code",
   "execution_count": 6,
   "metadata": {},
   "outputs": [
    {
     "data": {
      "text/html": [
       "<div>\n",
       "<style scoped>\n",
       "    .dataframe tbody tr th:only-of-type {\n",
       "        vertical-align: middle;\n",
       "    }\n",
       "\n",
       "    .dataframe tbody tr th {\n",
       "        vertical-align: top;\n",
       "    }\n",
       "\n",
       "    .dataframe thead th {\n",
       "        text-align: right;\n",
       "    }\n",
       "</style>\n",
       "<table border=\"1\" class=\"dataframe\">\n",
       "  <thead>\n",
       "    <tr style=\"text-align: right;\">\n",
       "      <th></th>\n",
       "      <th>Id number</th>\n",
       "      <th>RI: refractive index</th>\n",
       "      <th>Na</th>\n",
       "      <th>Mg</th>\n",
       "      <th>Al</th>\n",
       "      <th>Si</th>\n",
       "      <th>K</th>\n",
       "      <th>Ca</th>\n",
       "      <th>Ba</th>\n",
       "      <th>Fe</th>\n",
       "      <th>Type of glass</th>\n",
       "    </tr>\n",
       "  </thead>\n",
       "  <tbody>\n",
       "    <tr>\n",
       "      <th>count</th>\n",
       "      <td>214.000000</td>\n",
       "      <td>214.000000</td>\n",
       "      <td>214.000000</td>\n",
       "      <td>214.000000</td>\n",
       "      <td>214.000000</td>\n",
       "      <td>214.000000</td>\n",
       "      <td>214.000000</td>\n",
       "      <td>214.000000</td>\n",
       "      <td>214.000000</td>\n",
       "      <td>214.000000</td>\n",
       "      <td>214.000000</td>\n",
       "    </tr>\n",
       "    <tr>\n",
       "      <th>mean</th>\n",
       "      <td>107.500000</td>\n",
       "      <td>1.518365</td>\n",
       "      <td>13.407850</td>\n",
       "      <td>2.684533</td>\n",
       "      <td>1.444907</td>\n",
       "      <td>72.650935</td>\n",
       "      <td>0.497056</td>\n",
       "      <td>8.956963</td>\n",
       "      <td>0.175047</td>\n",
       "      <td>0.057009</td>\n",
       "      <td>2.780374</td>\n",
       "    </tr>\n",
       "    <tr>\n",
       "      <th>std</th>\n",
       "      <td>61.920648</td>\n",
       "      <td>0.003037</td>\n",
       "      <td>0.816604</td>\n",
       "      <td>1.442408</td>\n",
       "      <td>0.499270</td>\n",
       "      <td>0.774546</td>\n",
       "      <td>0.652192</td>\n",
       "      <td>1.423153</td>\n",
       "      <td>0.497219</td>\n",
       "      <td>0.097439</td>\n",
       "      <td>2.103739</td>\n",
       "    </tr>\n",
       "    <tr>\n",
       "      <th>min</th>\n",
       "      <td>1.000000</td>\n",
       "      <td>1.511150</td>\n",
       "      <td>10.730000</td>\n",
       "      <td>0.000000</td>\n",
       "      <td>0.290000</td>\n",
       "      <td>69.810000</td>\n",
       "      <td>0.000000</td>\n",
       "      <td>5.430000</td>\n",
       "      <td>0.000000</td>\n",
       "      <td>0.000000</td>\n",
       "      <td>1.000000</td>\n",
       "    </tr>\n",
       "    <tr>\n",
       "      <th>25%</th>\n",
       "      <td>54.250000</td>\n",
       "      <td>1.516523</td>\n",
       "      <td>12.907500</td>\n",
       "      <td>2.115000</td>\n",
       "      <td>1.190000</td>\n",
       "      <td>72.280000</td>\n",
       "      <td>0.122500</td>\n",
       "      <td>8.240000</td>\n",
       "      <td>0.000000</td>\n",
       "      <td>0.000000</td>\n",
       "      <td>1.000000</td>\n",
       "    </tr>\n",
       "    <tr>\n",
       "      <th>50%</th>\n",
       "      <td>107.500000</td>\n",
       "      <td>1.517680</td>\n",
       "      <td>13.300000</td>\n",
       "      <td>3.480000</td>\n",
       "      <td>1.360000</td>\n",
       "      <td>72.790000</td>\n",
       "      <td>0.555000</td>\n",
       "      <td>8.600000</td>\n",
       "      <td>0.000000</td>\n",
       "      <td>0.000000</td>\n",
       "      <td>2.000000</td>\n",
       "    </tr>\n",
       "    <tr>\n",
       "      <th>75%</th>\n",
       "      <td>160.750000</td>\n",
       "      <td>1.519157</td>\n",
       "      <td>13.825000</td>\n",
       "      <td>3.600000</td>\n",
       "      <td>1.630000</td>\n",
       "      <td>73.087500</td>\n",
       "      <td>0.610000</td>\n",
       "      <td>9.172500</td>\n",
       "      <td>0.000000</td>\n",
       "      <td>0.100000</td>\n",
       "      <td>3.000000</td>\n",
       "    </tr>\n",
       "    <tr>\n",
       "      <th>max</th>\n",
       "      <td>214.000000</td>\n",
       "      <td>1.533930</td>\n",
       "      <td>17.380000</td>\n",
       "      <td>4.490000</td>\n",
       "      <td>3.500000</td>\n",
       "      <td>75.410000</td>\n",
       "      <td>6.210000</td>\n",
       "      <td>16.190000</td>\n",
       "      <td>3.150000</td>\n",
       "      <td>0.510000</td>\n",
       "      <td>7.000000</td>\n",
       "    </tr>\n",
       "  </tbody>\n",
       "</table>\n",
       "</div>"
      ],
      "text/plain": [
       "        Id number  RI: refractive index          Na          Mg          Al  \\\n",
       "count  214.000000            214.000000  214.000000  214.000000  214.000000   \n",
       "mean   107.500000              1.518365   13.407850    2.684533    1.444907   \n",
       "std     61.920648              0.003037    0.816604    1.442408    0.499270   \n",
       "min      1.000000              1.511150   10.730000    0.000000    0.290000   \n",
       "25%     54.250000              1.516523   12.907500    2.115000    1.190000   \n",
       "50%    107.500000              1.517680   13.300000    3.480000    1.360000   \n",
       "75%    160.750000              1.519157   13.825000    3.600000    1.630000   \n",
       "max    214.000000              1.533930   17.380000    4.490000    3.500000   \n",
       "\n",
       "               Si           K          Ca          Ba          Fe  \\\n",
       "count  214.000000  214.000000  214.000000  214.000000  214.000000   \n",
       "mean    72.650935    0.497056    8.956963    0.175047    0.057009   \n",
       "std      0.774546    0.652192    1.423153    0.497219    0.097439   \n",
       "min     69.810000    0.000000    5.430000    0.000000    0.000000   \n",
       "25%     72.280000    0.122500    8.240000    0.000000    0.000000   \n",
       "50%     72.790000    0.555000    8.600000    0.000000    0.000000   \n",
       "75%     73.087500    0.610000    9.172500    0.000000    0.100000   \n",
       "max     75.410000    6.210000   16.190000    3.150000    0.510000   \n",
       "\n",
       "       Type of glass  \n",
       "count     214.000000  \n",
       "mean        2.780374  \n",
       "std         2.103739  \n",
       "min         1.000000  \n",
       "25%         1.000000  \n",
       "50%         2.000000  \n",
       "75%         3.000000  \n",
       "max         7.000000  "
      ]
     },
     "execution_count": 6,
     "metadata": {},
     "output_type": "execute_result"
    }
   ],
   "source": [
    "glass_data.describe()"
   ]
  },
  {
   "cell_type": "markdown",
   "metadata": {},
   "source": [
    "# Lets perform some EDA"
   ]
  },
  {
   "cell_type": "code",
   "execution_count": 7,
   "metadata": {},
   "outputs": [
    {
     "data": {
      "text/plain": [
       "<AxesSubplot:>"
      ]
     },
     "execution_count": 7,
     "metadata": {},
     "output_type": "execute_result"
    },
    {
     "data": {
      "image/png": "[encoded data removed]",
      "text/plain": [
       "<Figure size 432x288 with 2 Axes>"
      ]
     },
     "metadata": {
      "needs_background": "light"
     },
     "output_type": "display_data"
    }
   ],
   "source": [
    "#lets find correlation of data\n",
    "\n",
    "corr = glass_data.corr()\n",
    "sns.heatmap(corr, annot = True, cmap = 'coolwarm')\n"
   ]
  },
  {
   "cell_type": "code",
   "execution_count": 8,
   "metadata": {},
   "outputs": [],
   "source": [
    "#As i dont see Id number adding any atribute to the data I going to drop it.\n",
    "glass_data.drop('Id number', axis = 1, inplace = True)"
   ]
  },
  {
   "cell_type": "code",
   "execution_count": 9,
   "metadata": {},
   "outputs": [
    {
     "data": {
      "image/png": "[encoded data removed]",
      "text/plain": [
       "<Figure size 432x288 with 1 Axes>"
      ]
     },
     "metadata": {
      "needs_background": "light"
     },
     "output_type": "display_data"
    },
    {
     "data": {
      "image/png": "[encoded data removed]",
      "text/plain": [
       "<Figure size 432x288 with 1 Axes>"
      ]
     },
     "metadata": {
      "needs_background": "light"
     },
     "output_type": "display_data"
    },
    {
     "data": {
      "image/png": "[encoded data removed]",
      "text/plain": [
       "<Figure size 432x288 with 1 Axes>"
      ]
     },
     "metadata": {
      "needs_background": "light"
     },
     "output_type": "display_data"
    },
    {
     "data": {
      "image/png": "[encoded data removed]",
      "text/plain": [
       "<Figure size 432x288 with 1 Axes>"
      ]
     },
     "metadata": {
      "needs_background": "light"
     },
     "output_type": "display_data"
    },
    {
     "data": {
      "image/png": "[encoded data removed]",
      "text/plain": [
       "<Figure size 432x288 with 1 Axes>"
      ]
     },
     "metadata": {
      "needs_background": "light"
     },
     "output_type": "display_data"
    },
    {
     "data": {
      "image/png": "[encoded data removed]",
      "text/plain": [
       "<Figure size 432x288 with 1 Axes>"
      ]
     },
     "metadata": {
      "needs_background": "light"
     },
     "output_type": "display_data"
    },
    {
     "data": {
      "image/png": "[encoded data removed]",
      "text/plain": [
       "<Figure size 432x288 with 1 Axes>"
      ]
     },
     "metadata": {
      "needs_background": "light"
     },
     "output_type": "display_data"
    },
    {
     "data": {
      "image/png": "[encoded data removed]",
      "text/plain": [
       "<Figure size 432x288 with 1 Axes>"
      ]
     },
     "metadata": {
      "needs_background": "light"
     },
     "output_type": "display_data"
    },
    {
     "data": {
      "image/png": "[encoded data removed]",
      "text/plain": [
       "<Figure size 432x288 with 1 Axes>"
      ]
     },
     "metadata": {
      "needs_background": "light"
     },
     "output_type": "display_data"
    }
   ],
   "source": [
    "#lets try to find correlation of each independent column to dependent column using scatter plots\n",
    "\n",
    "\n",
    "sns.scatterplot(x = 'RI: refractive index', y = 'Type of glass', data = glass_data)\n",
    "plt.show()\n",
    "\n",
    "sns.scatterplot(x = 'Na', y = 'Type of glass', data = glass_data)\n",
    "plt.show()\n",
    "\n",
    "sns.scatterplot(x = 'Mg', y = 'Type of glass', data = glass_data)\n",
    "plt.show()\n",
    "\n",
    "sns.scatterplot(x = 'Al', y = 'Type of glass', data = glass_data)\n",
    "plt.show()\n",
    "\n",
    "sns.scatterplot(x = 'Si', y = 'Type of glass', data = glass_data)\n",
    "plt.show()\n",
    "\n",
    "sns.scatterplot(x = 'K', y = 'Type of glass', data = glass_data)\n",
    "plt.show()\n",
    "\n",
    "sns.scatterplot(x = 'Ca', y = 'Type of glass', data = glass_data)\n",
    "plt.show()\n",
    "\n",
    "sns.scatterplot(x = 'Ba', y = 'Type of glass', data = glass_data)\n",
    "plt.show()\n",
    "\n",
    "sns.scatterplot(x = 'Fe', y = 'Type of glass', data = glass_data)\n",
    "plt.show()\n"
   ]
  },
  {
   "cell_type": "code",
   "execution_count": 10,
   "metadata": {},
   "outputs": [
    {
     "data": {
      "text/html": [
       "<div>\n",
       "<style scoped>\n",
       "    .dataframe tbody tr th:only-of-type {\n",
       "        vertical-align: middle;\n",
       "    }\n",
       "\n",
       "    .dataframe tbody tr th {\n",
       "        vertical-align: top;\n",
       "    }\n",
       "\n",
       "    .dataframe thead th {\n",
       "        text-align: right;\n",
       "    }\n",
       "</style>\n",
       "<table border=\"1\" class=\"dataframe\">\n",
       "  <thead>\n",
       "    <tr style=\"text-align: right;\">\n",
       "      <th></th>\n",
       "      <th>RI: refractive index</th>\n",
       "      <th>Na</th>\n",
       "      <th>Mg</th>\n",
       "      <th>Al</th>\n",
       "      <th>Si</th>\n",
       "      <th>K</th>\n",
       "      <th>Ca</th>\n",
       "      <th>Ba</th>\n",
       "      <th>Fe</th>\n",
       "    </tr>\n",
       "    <tr>\n",
       "      <th>Type of glass</th>\n",
       "      <th></th>\n",
       "      <th></th>\n",
       "      <th></th>\n",
       "      <th></th>\n",
       "      <th></th>\n",
       "      <th></th>\n",
       "      <th></th>\n",
       "      <th></th>\n",
       "      <th></th>\n",
       "    </tr>\n",
       "  </thead>\n",
       "  <tbody>\n",
       "    <tr>\n",
       "      <th>1</th>\n",
       "      <td>70</td>\n",
       "      <td>70</td>\n",
       "      <td>70</td>\n",
       "      <td>70</td>\n",
       "      <td>70</td>\n",
       "      <td>70</td>\n",
       "      <td>70</td>\n",
       "      <td>70</td>\n",
       "      <td>70</td>\n",
       "    </tr>\n",
       "    <tr>\n",
       "      <th>2</th>\n",
       "      <td>76</td>\n",
       "      <td>76</td>\n",
       "      <td>76</td>\n",
       "      <td>76</td>\n",
       "      <td>76</td>\n",
       "      <td>76</td>\n",
       "      <td>76</td>\n",
       "      <td>76</td>\n",
       "      <td>76</td>\n",
       "    </tr>\n",
       "    <tr>\n",
       "      <th>3</th>\n",
       "      <td>17</td>\n",
       "      <td>17</td>\n",
       "      <td>17</td>\n",
       "      <td>17</td>\n",
       "      <td>17</td>\n",
       "      <td>17</td>\n",
       "      <td>17</td>\n",
       "      <td>17</td>\n",
       "      <td>17</td>\n",
       "    </tr>\n",
       "    <tr>\n",
       "      <th>5</th>\n",
       "      <td>13</td>\n",
       "      <td>13</td>\n",
       "      <td>13</td>\n",
       "      <td>13</td>\n",
       "      <td>13</td>\n",
       "      <td>13</td>\n",
       "      <td>13</td>\n",
       "      <td>13</td>\n",
       "      <td>13</td>\n",
       "    </tr>\n",
       "    <tr>\n",
       "      <th>6</th>\n",
       "      <td>9</td>\n",
       "      <td>9</td>\n",
       "      <td>9</td>\n",
       "      <td>9</td>\n",
       "      <td>9</td>\n",
       "      <td>9</td>\n",
       "      <td>9</td>\n",
       "      <td>9</td>\n",
       "      <td>9</td>\n",
       "    </tr>\n",
       "    <tr>\n",
       "      <th>7</th>\n",
       "      <td>29</td>\n",
       "      <td>29</td>\n",
       "      <td>29</td>\n",
       "      <td>29</td>\n",
       "      <td>29</td>\n",
       "      <td>29</td>\n",
       "      <td>29</td>\n",
       "      <td>29</td>\n",
       "      <td>29</td>\n",
       "    </tr>\n",
       "  </tbody>\n",
       "</table>\n",
       "</div>"
      ],
      "text/plain": [
       "               RI: refractive index  Na  Mg  Al  Si   K  Ca  Ba  Fe\n",
       "Type of glass                                                      \n",
       "1                                70  70  70  70  70  70  70  70  70\n",
       "2                                76  76  76  76  76  76  76  76  76\n",
       "3                                17  17  17  17  17  17  17  17  17\n",
       "5                                13  13  13  13  13  13  13  13  13\n",
       "6                                 9   9   9   9   9   9   9   9   9\n",
       "7                                29  29  29  29  29  29  29  29  29"
      ]
     },
     "execution_count": 10,
     "metadata": {},
     "output_type": "execute_result"
    }
   ],
   "source": [
    "glass_data.groupby('Type of glass').count()"
   ]
  },
  {
   "cell_type": "code",
   "execution_count": 11,
   "metadata": {},
   "outputs": [
    {
     "data": {
      "image/png": "[encoded data removed]",
      "text/plain": [
       "<Figure size 1080x360 with 1 Axes>"
      ]
     },
     "metadata": {
      "needs_background": "light"
     },
     "output_type": "display_data"
    }
   ],
   "source": [
    "glass_data.boxplot(figsize = (15,5))\n",
    "plt.show()"
   ]
  },
  {
   "cell_type": "code",
   "execution_count": 12,
   "metadata": {},
   "outputs": [
    {
     "data": {
      "image/png": "[encoded data removed]",
      "text/plain": [
       "<Figure size 432x288 with 1 Axes>"
      ]
     },
     "metadata": {
      "needs_background": "light"
     },
     "output_type": "display_data"
    },
    {
     "data": {
      "image/png": "[encoded data removed]",
      "text/plain": [
       "<Figure size 432x288 with 1 Axes>"
      ]
     },
     "metadata": {
      "needs_background": "light"
     },
     "output_type": "display_data"
    },
    {
     "data": {
      "image/png": "[encoded data removed]",
      "text/plain": [
       "<Figure size 432x288 with 1 Axes>"
      ]
     },
     "metadata": {
      "needs_background": "light"
     },
     "output_type": "display_data"
    },
    {
     "data": {
      "image/png": "[encoded data removed]",
      "text/plain": [
       "<Figure size 432x288 with 1 Axes>"
      ]
     },
     "metadata": {
      "needs_background": "light"
     },
     "output_type": "display_data"
    },
    {
     "data": {
      "image/png": "[encoded data removed]",
      "text/plain": [
       "<Figure size 432x288 with 1 Axes>"
      ]
     },
     "metadata": {
      "needs_background": "light"
     },
     "output_type": "display_data"
    },
    {
     "data": {
      "image/png": "[encoded data removed]",
      "text/plain": [
       "<Figure size 432x288 with 1 Axes>"
      ]
     },
     "metadata": {
      "needs_background": "light"
     },
     "output_type": "display_data"
    },
    {
     "data": {
      "image/png": "[encoded data removed]",
      "text/plain": [
       "<Figure size 432x288 with 1 Axes>"
      ]
     },
     "metadata": {
      "needs_background": "light"
     },
     "output_type": "display_data"
    },
    {
     "data": {
      "image/png": "[encoded data removed]",
      "text/plain": [
       "<Figure size 432x288 with 1 Axes>"
      ]
     },
     "metadata": {
      "needs_background": "light"
     },
     "output_type": "display_data"
    },
    {
     "data": {
      "image/png": "[encoded data removed]",
      "text/plain": [
       "<Figure size 432x288 with 1 Axes>"
      ]
     },
     "metadata": {
      "needs_background": "light"
     },
     "output_type": "display_data"
    }
   ],
   "source": [
    "glass_data['RI: refractive index'].plot(kind = 'box')\n",
    "plt.show()\n",
    "\n",
    "glass_data['Na'].plot(kind = 'box')\n",
    "plt.show()\n",
    "\n",
    "glass_data['Mg'].plot(kind = 'box')\n",
    "plt.show()\n",
    "\n",
    "glass_data['Al'].plot(kind = 'box')\n",
    "plt.show()\n",
    "\n",
    "glass_data['Si'].plot(kind = 'box')\n",
    "plt.show()\n",
    "\n",
    "glass_data['K'].plot(kind = 'box')\n",
    "plt.show()\n",
    "\n",
    "glass_data['Ca'].plot(kind = 'box')\n",
    "plt.show()\n",
    "\n",
    "glass_data['Ba'].plot(kind = 'box')\n",
    "plt.show()\n",
    "\n",
    "glass_data['Fe'].plot(kind = 'box')\n",
    "plt.show()"
   ]
  },
  {
   "cell_type": "code",
   "execution_count": 13,
   "metadata": {},
   "outputs": [
    {
     "name": "stdout",
     "output_type": "stream",
     "text": [
      "RI: refractive index    1.625431\n",
      "Na                      0.454181\n",
      "Mg                     -1.152559\n",
      "Al                      0.907290\n",
      "Si                     -0.730447\n",
      "K                       6.551648\n",
      "Ca                      2.047054\n",
      "Ba                      3.416425\n",
      "Fe                      1.754327\n",
      "Type of glass           1.114915\n",
      "dtype: float64\n"
     ]
    }
   ],
   "source": [
    "print(glass_data.skew())"
   ]
  },
  {
   "cell_type": "markdown",
   "metadata": {},
   "source": [
    "Lets try to remove the skewness of the data"
   ]
  },
  {
   "cell_type": "code",
   "execution_count": 14,
   "metadata": {},
   "outputs": [],
   "source": [
    "from scipy.stats import boxcox"
   ]
  },
  {
   "cell_type": "raw",
   "metadata": {},
   "source": [
    "glass_data['RI: refractive index'] = np.log(glass_data['RI: refractive index'])\n",
    "#glass_data['RI: refractive index'].plot.hist()\n",
    "\n",
    "glass_data['Na'] = np.log(glass_data['Na'])\n",
    "#glass_data['Na'].plot.hist()\n",
    "\n",
    "glass_data['Mg'] = np.log(glass_data['Mg'])\n",
    "#plt.hist(glass_data[np.isfinite(glass_data['Mg'])].values)\n",
    "# glass_data['Mg'].plot.hist()\n",
    "\n",
    "glass_data['Al'] = np.log(glass_data['Al'])\n",
    "#glass_data['Al'].plot.hist()\n",
    "\n",
    "glass_data['Si'] = np.log(glass_data['Si'])\n",
    "#glass_data['Si'].plot.hist()\n",
    "\n",
    "glass_data['K'] = np.log(glass_data['K'])\n",
    "#plt.hist(glass_data[np.isfinite(glass_data['K'])].values)\n",
    "# glass_data['K'].plot.hist()\n",
    "\n",
    "glass_data['Ca'] = np.log(glass_data['Ca'])\n",
    "#glass_data['Ca'].plot.hist()\n",
    "\n",
    "glass_data['Ba'] = np.log(glass_data['Ba'])\n",
    "#glass_data['Ba'].plot.hist()\n",
    "\n",
    "glass_data['Fe'] = np.log(glass_data['Fe'])\n",
    "# glass_data['Fe'].plot.hist()"
   ]
  },
  {
   "cell_type": "raw",
   "metadata": {},
   "source": [
    "#lets remove outliers\n",
    "\n",
    "\n",
    "def remove_outliers(glass_data, column):\n",
    "    sorted(glass_data) # as we need to set the data in ascending order\n",
    "    Q1, Q3 = np.percentile(glass_data[column], [25,75]) # 1st quartiel is 25% and 3rd quartiel is 75%\n",
    "    IQR = Q3 - Q1 # interquartile range\n",
    "    lower_range = Q1 - (1.5 * IQR)\n",
    "    upper_range = Q3 + (1.5 * IQR)\n",
    "    glass_data = glass_data[(glass_data[column] > lower_range) & (glass_data[column] < upper_range)]\n",
    "    return glass_data\n",
    "\n",
    "# world_hp = remove_outliers(world_hp, 'Standard Error')\n",
    "glass_data = remove_outliers(glass_data, 'RI: refractive index')\n",
    "glass_data = remove_outliers(glass_data, 'Na')\n",
    "glass_data = remove_outliers(glass_data, 'Mg')\n",
    "glass_data = remove_outliers(glass_data, 'Al')\n",
    "glass_data = remove_outliers(glass_data, 'Si')\n",
    "glass_data = remove_outliers(glass_data, 'K')\n",
    "glass_data = remove_outliers(glass_data, 'Ca')\n",
    "glass_data = remove_outliers(glass_data, 'Ba')\n",
    "glass_data = remove_outliers(glass_data, 'Fe')\n",
    "\n",
    "\n",
    "glass_data.boxplot(figsize = (20,8))\n",
    "plt.show()\n",
    "    \n",
    "    "
   ]
  },
  {
   "cell_type": "code",
   "execution_count": 15,
   "metadata": {},
   "outputs": [
    {
     "name": "stdout",
     "output_type": "stream",
     "text": [
      "(214, 9)\n",
      "(214,)\n"
     ]
    }
   ],
   "source": [
    "# Lets divide the data into independent and dependent variable\n",
    "X = glass_data.iloc[:,0:-1]\n",
    "Y = glass_data.iloc[:,-1]\n",
    "print(X.shape)\n",
    "print(Y.shape)"
   ]
  },
  {
   "cell_type": "code",
   "execution_count": 16,
   "metadata": {},
   "outputs": [
    {
     "name": "stdout",
     "output_type": "stream",
     "text": [
      "(160, 9)\n",
      "(54, 9)\n",
      "(160,)\n",
      "(54,)\n"
     ]
    }
   ],
   "source": [
    "# Lets split data into test and train\n",
    "\n",
    "X_train, X_test, Y_train, Y_test = train_test_split(X,Y, test_size = .25, random_state = 30)\n",
    "print(X_train.shape)\n",
    "print(X_test.shape)\n",
    "print(Y_train.shape)\n",
    "print(Y_test.shape)"
   ]
  },
  {
   "cell_type": "code",
   "execution_count": 17,
   "metadata": {},
   "outputs": [],
   "source": [
    "#Feature Scaling\n",
    "from sklearn.preprocessing import StandardScaler\n",
    "\n",
    "sc = StandardScaler()\n",
    "X_train = sc.fit_transform(X_train)\n",
    "X_test = sc.transform(X_test)\n",
    "# print(sc.mean_)\n",
    "# print(sc.transform(X_train))\n",
    "# print(sc.transform(X_test))"
   ]
  },
  {
   "cell_type": "code",
   "execution_count": 18,
   "metadata": {},
   "outputs": [],
   "source": [
    "#Lets import required libraries\n",
    "from sklearn.linear_model import LinearRegression\n",
    "from sklearn.tree import DecisionTreeRegressor\n",
    "from sklearn.neighbors import KNeighborsRegressor"
   ]
  },
  {
   "cell_type": "code",
   "execution_count": 19,
   "metadata": {},
   "outputs": [
    {
     "name": "stdout",
     "output_type": "stream",
     "text": [
      "Linear Regression Score :  0.6118136449386625\n",
      "Decision Tree Score :  0.42634560906515573\n",
      "KNeighbors Regressor :  0.6473087818696883\n"
     ]
    }
   ],
   "source": [
    "#Linear Regression\n",
    "lr = LinearRegression() # instance\n",
    "lr.fit(X_train, Y_train)\n",
    "lr_pred = lr.predict(X_test)\n",
    "lr_score = lr.score(X_test, Y_test)\n",
    "print('Linear Regression Score : ', lr_score)\n",
    "\n",
    "\n",
    "#Decision Tree\n",
    "dt = DecisionTreeRegressor()\n",
    "dt.fit(X_train, Y_train)\n",
    "dt_pred = dt.predict(X_test)\n",
    "dt_score = dt.score(X_test, Y_test)\n",
    "print('Decision Tree Score : ',dt_score)\n",
    "\n",
    "# KNeighbors Regressor\n",
    "knn = KNeighborsRegressor()\n",
    "knn.fit(X_train, Y_train)\n",
    "knn_pred = knn.predict(X_test)\n",
    "knn_score = knn.score(X_test, Y_test)\n",
    "print('KNeighbors Regressor : ', knn_score)"
   ]
  },
  {
   "cell_type": "markdown",
   "metadata": {},
   "source": [
    "# Modle Evaluation"
   ]
  },
  {
   "cell_type": "markdown",
   "metadata": {},
   "source": [
    "Lets use evaluation metrics like Mean_Square_error, Mean_absolute_error, RMSE\n",
    "\n",
    "Libraries already imported"
   ]
  },
  {
   "cell_type": "code",
   "execution_count": 20,
   "metadata": {},
   "outputs": [
    {
     "name": "stdout",
     "output_type": "stream",
     "text": [
      "Linear Regression\n",
      "Mean Squared Error :  1.6917257202055818\n",
      "Mean Absolute Error :  0.9270461553399327\n",
      "Root Mean Squared Error :  1.3006635691851993\n",
      "R2 Score :  0.6118136449386625\n"
     ]
    }
   ],
   "source": [
    "# Linear Regression\n",
    "print('Linear Regression')\n",
    "\n",
    "print('Mean Squared Error : ', mean_squared_error(Y_test, lr_pred))\n",
    "print('Mean Absolute Error : ', mean_absolute_error(Y_test, lr_pred))\n",
    "print('Root Mean Squared Error : ',np.sqrt(mean_squared_error(Y_test, lr_pred)))\n",
    "print('R2 Score : ', r2_score(Y_test, lr_pred))\n"
   ]
  },
  {
   "cell_type": "code",
   "execution_count": 21,
   "metadata": {},
   "outputs": [
    {
     "name": "stdout",
     "output_type": "stream",
     "text": [
      "Decision Tree Regressor\n",
      "Mean Squared Error :  2.5\n",
      "Mean Absolute Error :  0.7592592592592593\n",
      "Root Mean Squared Error :  1.5811388300841898\n",
      "R2 Score :  0.42634560906515573\n"
     ]
    }
   ],
   "source": [
    "#Decision Tree Regressor\n",
    "\n",
    "print('Decision Tree Regressor')\n",
    "print('Mean Squared Error : ', mean_squared_error(Y_test, dt_pred))\n",
    "print('Mean Absolute Error : ', mean_absolute_error(Y_test, dt_pred))\n",
    "print('Root Mean Squared Error : ',np.sqrt(mean_squared_error(Y_test, dt_pred)))\n",
    "print('R2 Score : ', r2_score(Y_test, dt_pred))\n",
    "# print('Classification report', classification_report(Y_test,dt_pred))"
   ]
  },
  {
   "cell_type": "code",
   "execution_count": 22,
   "metadata": {},
   "outputs": [
    {
     "name": "stdout",
     "output_type": "stream",
     "text": [
      "KNeighbors Regressor\n",
      "Mean Squared Error :  1.537037037037037\n",
      "Mean Absolute Error :  0.7888888888888889\n",
      "Root Mean Squared Error :  1.239772978023411\n",
      "R2 Score :  0.6473087818696883\n"
     ]
    }
   ],
   "source": [
    "#KNeighbors Regressor\n",
    "print('KNeighbors Regressor')\n",
    "print('Mean Squared Error : ', mean_squared_error(Y_test, knn_pred))\n",
    "print('Mean Absolute Error : ', mean_absolute_error(Y_test, knn_pred))\n",
    "print('Root Mean Squared Error : ',np.sqrt(mean_squared_error(Y_test, knn_pred)))\n",
    "print('R2 Score : ', r2_score(Y_test, knn_pred))\n"
   ]
  },
  {
   "cell_type": "markdown",
   "metadata": {},
   "source": [
    "# Model Tuning"
   ]
  },
  {
   "cell_type": "code",
   "execution_count": 23,
   "metadata": {},
   "outputs": [
    {
     "name": "stdout",
     "output_type": "stream",
     "text": [
      "GridSearchCV(estimator=Ridge(),\n",
      "             param_grid={'alpha': [1, 0.1, 0.01, 0.001, 0.0001, 0]})\n",
      "0.7350492320948231\n",
      "1\n",
      "{'alpha': 1}\n"
     ]
    }
   ],
   "source": [
    "from sklearn.model_selection import GridSearchCV\n",
    "from sklearn.linear_model import Ridge\n",
    "\n",
    "#lets create and fit Ridge Regression model testing each alpha\n",
    "alphavalue = {'alpha':[1,0.1,0.01,0.001,0.0001,0]}\n",
    "model = Ridge()\n",
    "\n",
    "grid = GridSearchCV(estimator = model, param_grid = alphavalue)\n",
    "\n",
    "grid.fit(X_train, Y_train)\n",
    "print(grid)\n",
    "\n",
    "#lets summarize the results of the grid search\n",
    "\n",
    "print(grid.best_score_)\n",
    "print(grid.best_estimator_.alpha)\n",
    "print(grid.best_params_)"
   ]
  },
  {
   "cell_type": "code",
   "execution_count": 24,
   "metadata": {},
   "outputs": [
    {
     "name": "stdout",
     "output_type": "stream",
     "text": [
      "[-0.08769049  0.57616932 -1.0090974   0.38625746  0.187203    0.03925721\n",
      "  0.01130687  0.32274425 -0.0568621 ]\n",
      "Score:  0.7801858150021121\n"
     ]
    }
   ],
   "source": [
    "rd = Ridge(alpha = 0.1)\n",
    "rd.fit(X_train,Y_train)\n",
    "print(rd.coef_)\n",
    "print('Score: ',rd.score(X_train, Y_train))"
   ]
  },
  {
   "cell_type": "code",
   "execution_count": 25,
   "metadata": {},
   "outputs": [
    {
     "name": "stdout",
     "output_type": "stream",
     "text": [
      "Fitting 5 folds for each of 49 candidates, totalling 245 fits\n"
     ]
    },
    {
     "name": "stderr",
     "output_type": "stream",
     "text": [
      "[Parallel(n_jobs=-1)]: Using backend LokyBackend with 4 concurrent workers.\n",
      "[Parallel(n_jobs=-1)]: Done  33 tasks      | elapsed:    8.8s\n"
     ]
    },
    {
     "name": "stdout",
     "output_type": "stream",
     "text": [
      "Best Parameters: {'n_neighbors': 2}\n"
     ]
    },
    {
     "name": "stderr",
     "output_type": "stream",
     "text": [
      "[Parallel(n_jobs=-1)]: Done 245 out of 245 | elapsed:   10.4s finished\n"
     ]
    }
   ],
   "source": [
    "from sklearn import svm\n",
    "from sklearn.model_selection import GridSearchCV\n",
    "import warnings\n",
    "warnings.filterwarnings('ignore')  \n",
    "\n",
    "knn_params = {\"n_neighbors\": np.arange(1, 50)}\n",
    "knn_cv_model = GridSearchCV(knn, knn_params, cv=5, n_jobs=-1, verbose=2)\n",
    "knn_cv_model.fit(X_train, Y_train)\n",
    "print(\"Best Parameters: \" + str(knn_cv_model.best_params_))"
   ]
  },
  {
   "cell_type": "code",
   "execution_count": 26,
   "metadata": {},
   "outputs": [
    {
     "name": "stdout",
     "output_type": "stream",
     "text": [
      "KNeighborsRegressor Tuned\n",
      "Mean Squared Error: 1.75\n",
      "Root Mean Squared Error: 1.3228756555322954\n",
      "Mean Absolute Error: 0.6851851851851852\n",
      "R2 Score: 0.5984419263456091\n"
     ]
    }
   ],
   "source": [
    "#Model Testing\n",
    "knn_tuned = KNeighborsRegressor(n_neighbors=2)\n",
    "knn_tuned.fit(X_train, Y_train)\n",
    "knn_tuned_pred = knn_tuned.predict(X_test)\n",
    "print('KNeighborsRegressor Tuned')\n",
    "print('Mean Squared Error:', mean_squared_error(Y_test, knn_tuned_pred))\n",
    "print('Root Mean Squared Error:', np.sqrt(mean_squared_error(Y_test, knn_tuned_pred)))\n",
    "print('Mean Absolute Error:', mean_absolute_error(Y_test, knn_tuned_pred))\n",
    "print('R2 Score:', r2_score(Y_test, knn_tuned_pred))"
   ]
  },
  {
   "cell_type": "markdown",
   "metadata": {},
   "source": [
    "1- building_windows_float_processed\n",
    "2- building_windows_non_float_processed\n",
    "3- vehicle_windows_float_processed\n",
    "4- vehicle_windows_non_float_processed (none in this database)\n",
    "5- containers\n",
    "6- tableware\n",
    "7- headlamps"
   ]
  },
  {
   "cell_type": "raw",
   "metadata": {},
   "source": [
    "def glasspredict_knn(p):\n",
    "    p = p.reshape(1,-1)\n",
    "    knn_pred = knn.predict(p)\n",
    "    if (knn_pred >= 1).all():\n",
    "        print(\"building_windows_float_processed\")\n",
    "    elif (knn_pred >= 2).all():   \n",
    "        print(\"building_windows_non_float_processed\")\n",
    "    elif (knn_pred >= 3).all():\n",
    "        print(\"vehicle_windows_float_processed\")\n",
    "    elif (knn_pred >= 4).all():\n",
    "        print(\"vehicle_windows_non_float_processed\")\n",
    "    elif (knn_pred >= 5).all():\n",
    "        print(\"containers\")\n",
    "    elif (knn_pred >=6).all():\n",
    "        print(\"tableware\")\n",
    "    elif (knn_pred == 7).all():\n",
    "        print(\"headlamps\")\n",
    "    else:\n",
    "        print(\"Model not working fine\")\n",
    "        \n",
    "def glasspredict_lr(p):\n",
    "    p = p.reshape(1,-1)\n",
    "    lr_pred = lr.predict(p)\n",
    "    if (lr_pred >= 1 and  ).any():\n",
    "        print(\"building_windows_float_processed\")\n",
    "    elif (lr_pred >= 2).any():   \n",
    "        print(\"building_windows_non_float_processed\")\n",
    "    elif (lr_pred >= 3).any():\n",
    "        print(\"vehicle_windows_float_processed\")\n",
    "    elif (lr_pred >= 4).any():\n",
    "        print(\"vehicle_windows_non_float_processed\")\n",
    "    elif (lr_pred >= 5).any():\n",
    "        print(\"containers\")\n",
    "    elif (lr_pred >=6).any():\n",
    "        print(\"tableware\")\n",
    "    elif (lr_pred == 7).any():\n",
    "        print(\"headlamps\")\n",
    "    else:\n",
    "        print(\"Model not working fine\")\n",
    "    "
   ]
  },
  {
   "cell_type": "code",
   "execution_count": 27,
   "metadata": {},
   "outputs": [
    {
     "data": {
      "text/html": [
       "<div>\n",
       "<style scoped>\n",
       "    .dataframe tbody tr th:only-of-type {\n",
       "        vertical-align: middle;\n",
       "    }\n",
       "\n",
       "    .dataframe tbody tr th {\n",
       "        vertical-align: top;\n",
       "    }\n",
       "\n",
       "    .dataframe thead th {\n",
       "        text-align: right;\n",
       "    }\n",
       "</style>\n",
       "<table border=\"1\" class=\"dataframe\">\n",
       "  <thead>\n",
       "    <tr style=\"text-align: right;\">\n",
       "      <th></th>\n",
       "      <th>RI: refractive index</th>\n",
       "      <th>Na</th>\n",
       "      <th>Mg</th>\n",
       "      <th>Al</th>\n",
       "      <th>Si</th>\n",
       "      <th>K</th>\n",
       "      <th>Ca</th>\n",
       "      <th>Ba</th>\n",
       "      <th>Fe</th>\n",
       "      <th>Type of glass</th>\n",
       "    </tr>\n",
       "  </thead>\n",
       "  <tbody>\n",
       "    <tr>\n",
       "      <th>110</th>\n",
       "      <td>1.52664</td>\n",
       "      <td>11.23</td>\n",
       "      <td>0.0</td>\n",
       "      <td>0.77</td>\n",
       "      <td>73.21</td>\n",
       "      <td>0.0</td>\n",
       "      <td>14.68</td>\n",
       "      <td>0.0</td>\n",
       "      <td>0.0</td>\n",
       "      <td>2</td>\n",
       "    </tr>\n",
       "  </tbody>\n",
       "</table>\n",
       "</div>"
      ],
      "text/plain": [
       "     RI: refractive index     Na   Mg    Al     Si    K     Ca   Ba   Fe  \\\n",
       "110               1.52664  11.23  0.0  0.77  73.21  0.0  14.68  0.0  0.0   \n",
       "\n",
       "     Type of glass  \n",
       "110              2  "
      ]
     },
     "execution_count": 27,
     "metadata": {},
     "output_type": "execute_result"
    }
   ],
   "source": [
    "glass_data.sample(1)"
   ]
  },
  {
   "cell_type": "code",
   "execution_count": 28,
   "metadata": {},
   "outputs": [
    {
     "name": "stdout",
     "output_type": "stream",
     "text": [
      "tableware\n"
     ]
    }
   ],
   "source": [
    "def glasspredict_knns(p):\n",
    "    p = p.reshape(1,-1)\n",
    "    knn_pred = knn.predict(p)\n",
    "    knn_pred = np.round_(knn_pred)\n",
    "    if knn_pred == 1 and knn_pred < 2:\n",
    "        print(\"building_windows_float_processed\")\n",
    "    elif knn_pred == 2 and knn_pred < 3:   \n",
    "        print(\"building_windows_non_float_processed\")\n",
    "    elif knn_pred == 3 and knn_pred < 4:\n",
    "        print(\"vehicle_windows_float_processed\")\n",
    "    elif knn_pred == 4 and knn_pred < 5:\n",
    "        print(\"vehicle_windows_non_float_processed\")\n",
    "    elif knn_pred == 5 and knn_pred < 6:\n",
    "        print(\"containers\")\n",
    "    elif knn_pred == 6 and knn_pred < 7:\n",
    "        print(\"tableware\")\n",
    "    elif knn_pred == 7:\n",
    "        print(\"headlamps\")\n",
    "    else:\n",
    "        print(knn_pred,\"Model not working fine\")\n",
    "        \n",
    "p = np.array([1.52101,13.64,4.49,1.10,71.78,0.06,8.75,0.0,0.0])\n",
    "glasspredict_knns(p)"
   ]
  },
  {
   "cell_type": "markdown",
   "metadata": {},
   "source": [
    "It was nice learning!"
   ]
  },
  {
   "cell_type": "markdown",
   "metadata": {},
   "source": [
    "# Thanks & Best Regards!!"
   ]
  },
  {
   "cell_type": "code",
   "execution_count": null,
   "metadata": {},
   "outputs": [],
   "source": []
  }
 ],
 "metadata": {
  "kernelspec": {
   "display_name": "Python 3",
   "language": "python",
   "name": "python3"
  },
  "language_info": {
   "codemirror_mode": {
    "name": "ipython",
    "version": 3
   },
   "file_extension": ".py",
   "mimetype": "text/x-python",
   "name": "python",
   "nbconvert_exporter": "python",
   "pygments_lexer": "ipython3",
   "version": "3.8.5"
  }
 },
 "nbformat": 4,
 "nbformat_minor": 4
}
