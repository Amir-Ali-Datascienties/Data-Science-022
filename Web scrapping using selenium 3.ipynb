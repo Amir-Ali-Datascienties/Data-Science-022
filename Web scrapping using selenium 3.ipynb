{
 "cells": [
  {
   "cell_type": "code",
   "execution_count": 1,
   "metadata": {},
   "outputs": [],
   "source": [
    "import selenium\n",
    "import pandas as pd\n",
    "from selenium import webdriver\n",
    "from selenium.webdriver.common.by import By\n",
    "import warnings\n",
    "warnings.filterwarnings('ignore')\n",
    "from selenium.common.exceptions import StaleElementReferenceException, NoSuchElementException\n",
    "import time"
   ]
  },
  {
   "cell_type": "markdown",
   "metadata": {},
   "source": [
    "1. Write a python program which searches all the product under a particular product from www.amazon.in. \n",
    "The product to be searched will be taken as input from user. For e.g. If user input is ‘guitar’. Then search \n",
    "for guitars."
   ]
  },
  {
   "cell_type": "code",
   "execution_count": 2,
   "metadata": {},
   "outputs": [],
   "source": [
    "amz_driver = webdriver.Chrome(\"D:\\c\")"
   ]
  },
  {
   "cell_type": "code",
   "execution_count": 3,
   "metadata": {},
   "outputs": [],
   "source": [
    "amz_driver.get('https://www.amazon.in/')\n",
    "time.sleep(2)"
   ]
  },
  {
   "cell_type": "code",
   "execution_count": 4,
   "metadata": {},
   "outputs": [
    {
     "name": "stdout",
     "output_type": "stream",
     "text": [
      "Please search your product: guitar\n"
     ]
    }
   ],
   "source": [
    "search_button = amz_driver.find_element(By.XPATH, \"/html/body/div[1]/header/div/div[1]/div[2]/div/form/div[2]/div[1]/input\")\n",
    "user_input = input(\"Please search your product: \")\n",
    "p_search = user_input+'s' #use concatination to complete the search word \n",
    "search_button.send_keys(p_search)\n",
    "time.sleep(2)\n",
    "\n",
    "submit_button = amz_driver.find_element(By.XPATH, \"/html/body/div[1]/header/div/div[1]/div[2]/div/form/div[3]/div/span/input\")\n",
    "submit_button.click()\n",
    "time.sleep(2)"
   ]
  },
  {
   "cell_type": "markdown",
   "metadata": {},
   "source": [
    "2. In the above question, now scrape the following details of each product listed in first 3 pages of your \n",
    "search results and save it in a data frame and csv. In case if any product has less than 3 pages in search \n",
    "results then scrape all the products available under that product name. Details to be scraped are: \"Brand \n",
    "Name\", \"Name of the Product\", \"Price\", \"Return/Exchange\", \"Expected Delivery\", \"Availability\" and \n",
    "“Product URL”. In case, if any of the details are missing for any of the product then replace it by “-“."
   ]
  },
  {
   "cell_type": "code",
   "execution_count": 5,
   "metadata": {},
   "outputs": [
    {
     "name": "stdout",
     "output_type": "stream",
     "text": [
      "190\n",
      "190\n",
      "180\n",
      "17020\n"
     ]
    }
   ],
   "source": [
    "#creating empty list to store fetched data\n",
    "brand = []\n",
    "Name_of_product = []\n",
    "price = []\n",
    "expected_delivery = []\n",
    "product_url = []\n",
    "brands = [] #create this empty list to split the brand data and store only brand name\n",
    "\n",
    "start = 0\n",
    "end = 3\n",
    "\n",
    "amz_driver.refresh()\n",
    "time.sleep(3)\n",
    "for i in range (start, end): # loop use to jump on next page\n",
    "    \n",
    "\n",
    "    brand_name =amz_driver.find_elements(By.XPATH, \"//span[@class = 'a-size-base-plus a-color-base a-text-normal']\")\n",
    "    for i in brand_name:\n",
    "        brand.append(i.text)\n",
    "        for i in brand:\n",
    "            brands.append(i.split(\" \")[0])\n",
    "        \n",
    "    prices = amz_driver.find_elements(By.XPATH, \"//span[@class = 'a-price-whole']\")\n",
    "    for i in prices:\n",
    "        price.append(i.text)\n",
    "        \n",
    "    expected_d = amz_driver.find_elements(By.XPATH, \"//span[@class = 'a-color-base a-text-bold']\")\n",
    "    for i in expected_d:\n",
    "        expected_delivery.append(i.text)\n",
    "        \n",
    "    p_url = amz_driver.find_elements(By.XPATH, \"//h2[@class = 'a-size-mini a-spacing-none a-color-base s-line-clamp-4']/a\")\n",
    "    for i in p_url:\n",
    "        product_url.append(i.get_attribute('href'))\n",
    "        \n",
    "    time.sleep(2)   #to make sure all the data fetched on time \n",
    "    next_page = amz_driver.find_element(By.XPATH, \"//a[@class = 's-pagination-item s-pagination-next s-pagination-button s-pagination-separator']\")\n",
    "    next_page.click()\n",
    "    time.sleep(2) #to make sure new page upload successfully\n",
    "\n",
    "#printing on lenght to check inequality in the fetched data\n",
    "print(len(price))    \n",
    "print(len(expected_delivery))\n",
    "print(len(product_url))\n",
    "print(len(brands))"
   ]
  },
  {
   "cell_type": "code",
   "execution_count": 6,
   "metadata": {},
   "outputs": [],
   "source": [
    "products_attributes_lists = [price, brands, expected_delivery, product_url]\n",
    "#created a nested list to stor all the data so that we can create DataFrame with uneqal data."
   ]
  },
  {
   "cell_type": "code",
   "execution_count": 7,
   "metadata": {},
   "outputs": [
    {
     "data": {
      "text/html": [
       "<div>\n",
       "<style scoped>\n",
       "    .dataframe tbody tr th:only-of-type {\n",
       "        vertical-align: middle;\n",
       "    }\n",
       "\n",
       "    .dataframe tbody tr th {\n",
       "        vertical-align: top;\n",
       "    }\n",
       "\n",
       "    .dataframe thead th {\n",
       "        text-align: right;\n",
       "    }\n",
       "</style>\n",
       "<table border=\"1\" class=\"dataframe\">\n",
       "  <thead>\n",
       "    <tr style=\"text-align: right;\">\n",
       "      <th></th>\n",
       "      <th>Price</th>\n",
       "      <th>Brand Name</th>\n",
       "      <th>Expected Delivery</th>\n",
       "      <th>Prouduct link</th>\n",
       "    </tr>\n",
       "  </thead>\n",
       "  <tbody>\n",
       "    <tr>\n",
       "      <th>0</th>\n",
       "      <td>6,299</td>\n",
       "      <td>Kadence</td>\n",
       "      <td>Tuesday, December 27</td>\n",
       "      <td>https://www.amazon.in/sspa/click?ie=UTF8&amp;spc=M...</td>\n",
       "    </tr>\n",
       "    <tr>\n",
       "      <th>1</th>\n",
       "      <td>9,900</td>\n",
       "      <td>Kadence</td>\n",
       "      <td>Thursday, December 29</td>\n",
       "      <td>https://www.amazon.in/sspa/click?ie=UTF8&amp;spc=M...</td>\n",
       "    </tr>\n",
       "    <tr>\n",
       "      <th>2</th>\n",
       "      <td>4,949</td>\n",
       "      <td>Kadence</td>\n",
       "      <td>Thursday, December 29</td>\n",
       "      <td>https://www.amazon.in/sspa/click?ie=UTF8&amp;spc=M...</td>\n",
       "    </tr>\n",
       "    <tr>\n",
       "      <th>3</th>\n",
       "      <td>4,949</td>\n",
       "      <td>Kadence</td>\n",
       "      <td>Thursday, December 29</td>\n",
       "      <td>https://www.amazon.in/sspa/click?ie=UTF8&amp;spc=M...</td>\n",
       "    </tr>\n",
       "    <tr>\n",
       "      <th>4</th>\n",
       "      <td>9,900</td>\n",
       "      <td>Kadence</td>\n",
       "      <td>Thursday, December 29</td>\n",
       "      <td>https://www.amazon.in/Juarez-Acoustic-Cutaway-...</td>\n",
       "    </tr>\n",
       "    <tr>\n",
       "      <th>...</th>\n",
       "      <td>...</td>\n",
       "      <td>...</td>\n",
       "      <td>...</td>\n",
       "      <td>...</td>\n",
       "    </tr>\n",
       "    <tr>\n",
       "      <th>17015</th>\n",
       "      <td>None</td>\n",
       "      <td>Yamaha</td>\n",
       "      <td>None</td>\n",
       "      <td>None</td>\n",
       "    </tr>\n",
       "    <tr>\n",
       "      <th>17016</th>\n",
       "      <td>None</td>\n",
       "      <td>GUITAR</td>\n",
       "      <td>None</td>\n",
       "      <td>None</td>\n",
       "    </tr>\n",
       "    <tr>\n",
       "      <th>17017</th>\n",
       "      <td>None</td>\n",
       "      <td>Mustang</td>\n",
       "      <td>None</td>\n",
       "      <td>None</td>\n",
       "    </tr>\n",
       "    <tr>\n",
       "      <th>17018</th>\n",
       "      <td>None</td>\n",
       "      <td>RK</td>\n",
       "      <td>None</td>\n",
       "      <td>None</td>\n",
       "    </tr>\n",
       "    <tr>\n",
       "      <th>17019</th>\n",
       "      <td>None</td>\n",
       "      <td>CHARCOALE</td>\n",
       "      <td>None</td>\n",
       "      <td>None</td>\n",
       "    </tr>\n",
       "  </tbody>\n",
       "</table>\n",
       "<p>17020 rows × 4 columns</p>\n",
       "</div>"
      ],
      "text/plain": [
       "       Price Brand Name      Expected Delivery  \\\n",
       "0      6,299    Kadence   Tuesday, December 27   \n",
       "1      9,900    Kadence  Thursday, December 29   \n",
       "2      4,949    Kadence  Thursday, December 29   \n",
       "3      4,949    Kadence  Thursday, December 29   \n",
       "4      9,900    Kadence  Thursday, December 29   \n",
       "...      ...        ...                    ...   \n",
       "17015   None     Yamaha                   None   \n",
       "17016   None     GUITAR                   None   \n",
       "17017   None    Mustang                   None   \n",
       "17018   None         RK                   None   \n",
       "17019   None  CHARCOALE                   None   \n",
       "\n",
       "                                           Prouduct link  \n",
       "0      https://www.amazon.in/sspa/click?ie=UTF8&spc=M...  \n",
       "1      https://www.amazon.in/sspa/click?ie=UTF8&spc=M...  \n",
       "2      https://www.amazon.in/sspa/click?ie=UTF8&spc=M...  \n",
       "3      https://www.amazon.in/sspa/click?ie=UTF8&spc=M...  \n",
       "4      https://www.amazon.in/Juarez-Acoustic-Cutaway-...  \n",
       "...                                                  ...  \n",
       "17015                                               None  \n",
       "17016                                               None  \n",
       "17017                                               None  \n",
       "17018                                               None  \n",
       "17019                                               None  \n",
       "\n",
       "[17020 rows x 4 columns]"
      ]
     },
     "execution_count": 7,
     "metadata": {},
     "output_type": "execute_result"
    }
   ],
   "source": [
    "p_df1 = pd.DataFrame(products_attributes_lists)\n",
    "#print(p_df1)\n",
    "p_df2 = p_df1.transpose() # use transpose to convert rows into columns\n",
    "#print(p_df2)\n",
    "p_df3 = pd.DataFrame(p_df2)\n",
    "p_df3.columns = ['Price', 'Brand Name', 'Expected Delivery', 'Prouduct link']\n",
    "p_df3\n"
   ]
  },
  {
   "cell_type": "code",
   "execution_count": 8,
   "metadata": {},
   "outputs": [
    {
     "data": {
      "text/plain": [
       "Price                0\n",
       "Brand Name           0\n",
       "Expected Delivery    0\n",
       "Prouduct link        0\n",
       "dtype: int64"
      ]
     },
     "execution_count": 8,
     "metadata": {},
     "output_type": "execute_result"
    }
   ],
   "source": [
    "import numpy as np #importing numpy\n",
    "p_df4 =p_df3.replace(np.nan, '-') #replace nan with \"-\"\n",
    "p_df4.isnull().sum() #count of null is 0"
   ]
  },
  {
   "cell_type": "code",
   "execution_count": 9,
   "metadata": {},
   "outputs": [
    {
     "data": {
      "text/html": [
       "<div>\n",
       "<style scoped>\n",
       "    .dataframe tbody tr th:only-of-type {\n",
       "        vertical-align: middle;\n",
       "    }\n",
       "\n",
       "    .dataframe tbody tr th {\n",
       "        vertical-align: top;\n",
       "    }\n",
       "\n",
       "    .dataframe thead th {\n",
       "        text-align: right;\n",
       "    }\n",
       "</style>\n",
       "<table border=\"1\" class=\"dataframe\">\n",
       "  <thead>\n",
       "    <tr style=\"text-align: right;\">\n",
       "      <th></th>\n",
       "      <th>Price</th>\n",
       "      <th>Brand Name</th>\n",
       "      <th>Expected Delivery</th>\n",
       "      <th>Prouduct link</th>\n",
       "    </tr>\n",
       "  </thead>\n",
       "  <tbody>\n",
       "    <tr>\n",
       "      <th>0</th>\n",
       "      <td>6,299</td>\n",
       "      <td>Kadence</td>\n",
       "      <td>Tuesday, December 27</td>\n",
       "      <td>https://www.amazon.in/sspa/click?ie=UTF8&amp;spc=M...</td>\n",
       "    </tr>\n",
       "    <tr>\n",
       "      <th>1</th>\n",
       "      <td>9,900</td>\n",
       "      <td>Kadence</td>\n",
       "      <td>Thursday, December 29</td>\n",
       "      <td>https://www.amazon.in/sspa/click?ie=UTF8&amp;spc=M...</td>\n",
       "    </tr>\n",
       "    <tr>\n",
       "      <th>2</th>\n",
       "      <td>4,949</td>\n",
       "      <td>Kadence</td>\n",
       "      <td>Thursday, December 29</td>\n",
       "      <td>https://www.amazon.in/sspa/click?ie=UTF8&amp;spc=M...</td>\n",
       "    </tr>\n",
       "    <tr>\n",
       "      <th>3</th>\n",
       "      <td>4,949</td>\n",
       "      <td>Kadence</td>\n",
       "      <td>Thursday, December 29</td>\n",
       "      <td>https://www.amazon.in/sspa/click?ie=UTF8&amp;spc=M...</td>\n",
       "    </tr>\n",
       "    <tr>\n",
       "      <th>4</th>\n",
       "      <td>9,900</td>\n",
       "      <td>Kadence</td>\n",
       "      <td>Thursday, December 29</td>\n",
       "      <td>https://www.amazon.in/Juarez-Acoustic-Cutaway-...</td>\n",
       "    </tr>\n",
       "    <tr>\n",
       "      <th>...</th>\n",
       "      <td>...</td>\n",
       "      <td>...</td>\n",
       "      <td>...</td>\n",
       "      <td>...</td>\n",
       "    </tr>\n",
       "    <tr>\n",
       "      <th>17015</th>\n",
       "      <td>-</td>\n",
       "      <td>Yamaha</td>\n",
       "      <td>-</td>\n",
       "      <td>-</td>\n",
       "    </tr>\n",
       "    <tr>\n",
       "      <th>17016</th>\n",
       "      <td>-</td>\n",
       "      <td>GUITAR</td>\n",
       "      <td>-</td>\n",
       "      <td>-</td>\n",
       "    </tr>\n",
       "    <tr>\n",
       "      <th>17017</th>\n",
       "      <td>-</td>\n",
       "      <td>Mustang</td>\n",
       "      <td>-</td>\n",
       "      <td>-</td>\n",
       "    </tr>\n",
       "    <tr>\n",
       "      <th>17018</th>\n",
       "      <td>-</td>\n",
       "      <td>RK</td>\n",
       "      <td>-</td>\n",
       "      <td>-</td>\n",
       "    </tr>\n",
       "    <tr>\n",
       "      <th>17019</th>\n",
       "      <td>-</td>\n",
       "      <td>CHARCOALE</td>\n",
       "      <td>-</td>\n",
       "      <td>-</td>\n",
       "    </tr>\n",
       "  </tbody>\n",
       "</table>\n",
       "<p>17020 rows × 4 columns</p>\n",
       "</div>"
      ],
      "text/plain": [
       "       Price Brand Name      Expected Delivery  \\\n",
       "0      6,299    Kadence   Tuesday, December 27   \n",
       "1      9,900    Kadence  Thursday, December 29   \n",
       "2      4,949    Kadence  Thursday, December 29   \n",
       "3      4,949    Kadence  Thursday, December 29   \n",
       "4      9,900    Kadence  Thursday, December 29   \n",
       "...      ...        ...                    ...   \n",
       "17015      -     Yamaha                      -   \n",
       "17016      -     GUITAR                      -   \n",
       "17017      -    Mustang                      -   \n",
       "17018      -         RK                      -   \n",
       "17019      -  CHARCOALE                      -   \n",
       "\n",
       "                                           Prouduct link  \n",
       "0      https://www.amazon.in/sspa/click?ie=UTF8&spc=M...  \n",
       "1      https://www.amazon.in/sspa/click?ie=UTF8&spc=M...  \n",
       "2      https://www.amazon.in/sspa/click?ie=UTF8&spc=M...  \n",
       "3      https://www.amazon.in/sspa/click?ie=UTF8&spc=M...  \n",
       "4      https://www.amazon.in/Juarez-Acoustic-Cutaway-...  \n",
       "...                                                  ...  \n",
       "17015                                                  -  \n",
       "17016                                                  -  \n",
       "17017                                                  -  \n",
       "17018                                                  -  \n",
       "17019                                                  -  \n",
       "\n",
       "[17020 rows x 4 columns]"
      ]
     },
     "execution_count": 9,
     "metadata": {},
     "output_type": "execute_result"
    }
   ],
   "source": [
    "p_df4"
   ]
  },
  {
   "cell_type": "code",
   "execution_count": 10,
   "metadata": {},
   "outputs": [],
   "source": [
    "amz_driver.close()"
   ]
  },
  {
   "cell_type": "markdown",
   "metadata": {},
   "source": [
    "3. Write a python program to access the search bar and search button on images.google.com and scrape 10\n",
    "images each for keywords ‘fruits’, ‘cars’ and ‘Machine Learning’, ‘Guitar’, ‘Cakes’."
   ]
  },
  {
   "cell_type": "code",
   "execution_count": 11,
   "metadata": {},
   "outputs": [],
   "source": [
    "import urllib # We will require urllib to download images\n",
    "\n",
    "google_driver = webdriver.Chrome(r\"D:\\chromedriver.exe\")\n",
    "google_driver.maximize_window()"
   ]
  },
  {
   "cell_type": "code",
   "execution_count": 12,
   "metadata": {},
   "outputs": [],
   "source": [
    "google_driver.get(\"https://google.com\") # get the google website\n",
    "time.sleep(1)\n",
    "#lets click on images button to land on images.google.com\n",
    "imgs = google_driver.find_element(By.XPATH, \"/html/body/div[1]/div[1]/div/div/div/div[1]/div/div[2]/a\")\n",
    "imgs.click()\n",
    "time.sleep(2)"
   ]
  },
  {
   "cell_type": "code",
   "execution_count": 13,
   "metadata": {},
   "outputs": [],
   "source": [
    "#Scrape 10 images each for keywords ‘fruits’, ‘cars’ and ‘Machine Learning’, ‘Guitar’, ‘Cakes’.\n",
    "\n",
    "search_bar = google_driver.find_element(By.XPATH, \"/html/body/div[1]/div[3]/form/div[1]/div[1]/div[1]/div/div[2]/input\")\n",
    "#/html/body/c-wiz/c-wiz/div/div[3]/div[2]/div/div[1]/form/div[1]/div[2]/div/div[2]/input\n",
    "submit_button = google_driver.find_element(By.XPATH, \"//span[@class = 'z1asCe MZy1Rb']\")\n"
   ]
  },
  {
   "cell_type": "code",
   "execution_count": 14,
   "metadata": {},
   "outputs": [
    {
     "name": "stdout",
     "output_type": "stream",
     "text": [
      "10\n"
     ]
    }
   ],
   "source": [
    "search_bar.send_keys('fruits')\n",
    "submit_button.click()\n",
    "time.sleep(2)\n",
    "\n",
    "Fruits = []\n",
    "f_img = google_driver.find_elements(By.XPATH, \"//img[contains(@class, 'rg_i Q4LuWd')]\")\n",
    "for i in f_img[0:10]:\n",
    "    Fruits.append(i.get_attribute('src'))\n",
    "    if len(Fruits) == 10:\n",
    "        break\n",
    "print(len(Fruits))\n",
    "for i in range (10):\n",
    "    urllib.request.urlretrieve(str(Fruits[i]),\"Downloads/assignment3/fruits/fruits{}.jpg\".format(i))\n"
   ]
  },
  {
   "cell_type": "code",
   "execution_count": 15,
   "metadata": {},
   "outputs": [
    {
     "name": "stdout",
     "output_type": "stream",
     "text": [
      "10\n"
     ]
    }
   ],
   "source": [
    "Search_bar = google_driver.find_element(By.XPATH, \"/html/body/c-wiz/c-wiz/div/div[3]/div[2]/div/div[1]/form/div[1]/div[2]/div/div[2]/input\")\n",
    "Search_bar.clear()\n",
    "submit_button = google_driver.find_element(By.XPATH, \"//span[@class = 'n6h3Rc']\")\n",
    "Search_bar.send_keys('Car')\n",
    "submit_button.click()\n",
    "time.sleep(2)\n",
    "\n",
    "Cars = []\n",
    "\n",
    "c_img = google_driver.find_elements(By.XPATH, \"//img[contains(@class, 'rg_i Q4LuWd')]\")\n",
    "for i in c_img[0:10]:\n",
    "    Cars.append(i.get_attribute('src'))\n",
    "    if len(Cars) == 10:\n",
    "        break\n",
    "print(len(Cars))\n",
    "for i in range(10):\n",
    "    urllib.request.urlretrieve(str(Cars[i]),\"Downloads/assignment3/Cars/cars{}.jpg\".format(i))\n",
    "    \n",
    "\n",
    "    \n",
    "#10 images has been downloaded\n",
    "    \n"
   ]
  },
  {
   "cell_type": "code",
   "execution_count": 16,
   "metadata": {},
   "outputs": [
    {
     "name": "stdout",
     "output_type": "stream",
     "text": [
      "10\n"
     ]
    }
   ],
   "source": [
    "search_bar = google_driver.find_element(By.XPATH, \"/html/body/c-wiz/c-wiz/div/div[3]/div[2]/div/div[1]/form/div[1]/div[2]/div/div[2]/input\")\n",
    "search_bar.clear()\n",
    "submit_button = google_driver.find_element(By.XPATH, \"//span[@class = 'n6h3Rc']\")\n",
    "search_bar.send_keys(\"Machine Learning\")\n",
    "submit_button.click()\n",
    "\n",
    "\n",
    "ML = []\n",
    "\n",
    "machine_learning = google_driver.find_elements(By.XPATH,\"//img[contains(@class, 'rg_i Q4LuWd')]\")\n",
    "for i in machine_learning[0:10]:\n",
    "    ML.append(i.get_attribute('src'))\n",
    "    if len(ML) == 10:\n",
    "        break\n",
    "print(len(ML))\n",
    "for i in range(0,10):\n",
    "    urllib.request.urlretrieve(str(ML[i]),\"Downloads/assignment3/ML/ML{}.jpg\".format(i))\n",
    "    \n",
    "#10 ML jpg file downloaded\n"
   ]
  },
  {
   "cell_type": "code",
   "execution_count": 17,
   "metadata": {},
   "outputs": [
    {
     "name": "stdout",
     "output_type": "stream",
     "text": [
      "10\n"
     ]
    }
   ],
   "source": [
    "search_bar  = google_driver.find_element(By.XPATH, \"/html/body/c-wiz/c-wiz/div/div[3]/div[2]/div/div[1]/form/div[1]/div[2]/div/div[2]/input\")\n",
    "search_bar.clear()\n",
    "submit_button = google_driver.find_element(By.XPATH, \"//span[@class = 'n6h3Rc']\")\n",
    "search_bar.send_keys(\"Cake\")\n",
    "submit_button.click()\n",
    "\n",
    "cake = []\n",
    "cakes = google_driver.find_elements(By.XPATH,\"//img[contains(@class, 'rg_i Q4LuWd')]\")\n",
    "for i in cakes[0:10]:\n",
    "    cake.append(i.get_attribute('src'))\n",
    "print(len(cake))\n",
    "\n",
    "for i in range(0,10):\n",
    "    urllib.request.urlretrieve(str(cake[i]), \"Downloads/assignment3/cake/cake{}.jpg\".format(i))\n",
    "    \n",
    "#10 images has been downloaded\n",
    "    "
   ]
  },
  {
   "cell_type": "code",
   "execution_count": 18,
   "metadata": {},
   "outputs": [],
   "source": [
    "google_driver.close()"
   ]
  },
  {
   "cell_type": "markdown",
   "metadata": {},
   "source": [
    "4. Write a python program to search for a smartphone(e.g.: Oneplus Nord, pixel 4A, etc.) on\n",
    "www.flipkart.com and scrape following details for all the search results displayed on 1st page. Details to be \n",
    "scraped: “Brand Name”, “Smartphone name”, “Colour”, “RAM”, “Storage(ROM)”, “Primary Camera”, \n",
    "“Secondary Camera”, “Display Size”, “Battery Capacity”, “Price”, “Product URL”. Incase if any of the \n",
    "details is missing then replace it by “- “. Save your results in a dataframe and CSV."
   ]
  },
  {
   "cell_type": "code",
   "execution_count": 19,
   "metadata": {},
   "outputs": [],
   "source": [
    "flip_driver = webdriver.Chrome(\"r/D:\\chromedriver.exe\")\n",
    "flip_driver.maximize_window()\n",
    "flip_driver.get(\"https://www.flipkart.com/\")\n",
    "time.sleep(3)\n",
    "close_registration = flip_driver.find_element(By.XPATH, \"/html/body/div[2]/div/div/button\")\n",
    "close_registration.click() #closing the registration window appear in the starting "
   ]
  },
  {
   "cell_type": "code",
   "execution_count": 20,
   "metadata": {},
   "outputs": [],
   "source": [
    "search_bar = flip_driver.find_element(By.XPATH, \"/html/body/div[1]/div/div[1]/div[1]/div[2]/div[2]/form/div/div/input\")\n",
    "submit_button = flip_driver.find_element(By.XPATH, \"//button[@class = 'L0Z3Pu']\")\n",
    "search_bar.send_keys(\"Oneplus Nord\")\n",
    "submit_button.click()\n",
    "time.sleep(2)"
   ]
  },
  {
   "cell_type": "code",
   "execution_count": 21,
   "metadata": {},
   "outputs": [],
   "source": [
    "brand = []\n",
    "smart_phone = []\n",
    "brand_names = flip_driver.find_elements(By.XPATH, \"//div[@class = '_4rR01T']\")\n",
    "for i in brand_names:\n",
    "    brand.append(i.text.split(\" \")[0])#.split(\" \")\n",
    "    \n",
    "#print(brand)\n",
    "\n",
    "for i in brand_names:\n",
    "    smart_phone.append(i.text.split(\" \")[1])\n",
    "#print(smart_phone)\n"
   ]
  },
  {
   "cell_type": "code",
   "execution_count": 22,
   "metadata": {},
   "outputs": [],
   "source": [
    "colour = [] #emepty list to store firstplit data\n",
    "colour_name = [] #empty list to store final split data\n",
    "for i in brand_names:\n",
    "    colours = i.text.split(\"(\")[1]\n",
    "    colour.append(colours)\n",
    "for i in colour:\n",
    "    colour_name.append(i.split(\",\")[0])\n",
    "#print(colour_name)\n"
   ]
  },
  {
   "cell_type": "code",
   "execution_count": 23,
   "metadata": {},
   "outputs": [],
   "source": [
    "ROM = [] # RAM list to store RAM data\n",
    "for i in brand_names:\n",
    "    rom = i.text.split(\",\")[1]\n",
    "    ROM.append(rom.split(\")\")[0] + \" \" + \"ROM\")\n",
    "#print(ROM)"
   ]
  },
  {
   "cell_type": "code",
   "execution_count": 24,
   "metadata": {},
   "outputs": [],
   "source": [
    "RAM = [] #ROM list to store ROM list\n",
    "other_info = flip_driver.find_elements(By.XPATH, \"//ul[@class = '_1xgFaf']\")\n",
    "for i in other_info:\n",
    "    RAM.append(i.text.split(\"|\")[0])\n",
    "#print(RAM)"
   ]
  },
  {
   "cell_type": "code",
   "execution_count": 25,
   "metadata": {},
   "outputs": [],
   "source": [
    "camera = []\n",
    "\n",
    "for i in other_info:\n",
    "    camera.append(i.text.split(\"\\n\")[2])\n",
    "#print(camera)"
   ]
  },
  {
   "cell_type": "code",
   "execution_count": 26,
   "metadata": {},
   "outputs": [],
   "source": [
    "display = []\n",
    "for i in other_info:\n",
    "    display.append(i.text.split(\"\\n\")[1])\n",
    "#print(display)"
   ]
  },
  {
   "cell_type": "code",
   "execution_count": 27,
   "metadata": {},
   "outputs": [],
   "source": [
    "Battery = []\n",
    "for i in other_info:\n",
    "    Battery.append(i.text.split(\"\\n\")[3])\n",
    "#print(Battery)"
   ]
  },
  {
   "cell_type": "code",
   "execution_count": 28,
   "metadata": {},
   "outputs": [],
   "source": [
    "price = []\n",
    "prices = flip_driver.find_elements(By.XPATH, \"//div[@class = '_30jeq3 _1_WHN1']\")\n",
    "for i in prices:\n",
    "    price.append(i.text)\n",
    "#print(price)"
   ]
  },
  {
   "cell_type": "code",
   "execution_count": 29,
   "metadata": {},
   "outputs": [],
   "source": [
    "P_URL = []\n",
    "urls = flip_driver.find_elements(By.XPATH, \"//a[@class = '_1fQZEK']\")\n",
    "for i in urls:\n",
    "    P_URL.append(i.get_attribute('href'))\n",
    "#print(P_URL)"
   ]
  },
  {
   "cell_type": "code",
   "execution_count": 30,
   "metadata": {},
   "outputs": [
    {
     "data": {
      "text/html": [
       "<div>\n",
       "<style scoped>\n",
       "    .dataframe tbody tr th:only-of-type {\n",
       "        vertical-align: middle;\n",
       "    }\n",
       "\n",
       "    .dataframe tbody tr th {\n",
       "        vertical-align: top;\n",
       "    }\n",
       "\n",
       "    .dataframe thead th {\n",
       "        text-align: right;\n",
       "    }\n",
       "</style>\n",
       "<table border=\"1\" class=\"dataframe\">\n",
       "  <thead>\n",
       "    <tr style=\"text-align: right;\">\n",
       "      <th></th>\n",
       "      <th>Brand Name</th>\n",
       "      <th>Smart Phone Name</th>\n",
       "      <th>Colour</th>\n",
       "      <th>RAM</th>\n",
       "      <th>ROM</th>\n",
       "      <th>Camera</th>\n",
       "      <th>Display Size</th>\n",
       "      <th>Battery</th>\n",
       "      <th>Price</th>\n",
       "      <th>Product link</th>\n",
       "    </tr>\n",
       "  </thead>\n",
       "  <tbody>\n",
       "    <tr>\n",
       "      <th>0</th>\n",
       "      <td>OnePlus</td>\n",
       "      <td>Nord</td>\n",
       "      <td>Blue Tide</td>\n",
       "      <td>6 GB RAM</td>\n",
       "      <td>128 GB ROM</td>\n",
       "      <td>64MP Rear Camera</td>\n",
       "      <td>16.74 cm (6.59 inch) Display</td>\n",
       "      <td>5000 mAh Battery</td>\n",
       "      <td>₹19,879</td>\n",
       "      <td>https://www.flipkart.com/oneplus-nord-ce-2-lit...</td>\n",
       "    </tr>\n",
       "    <tr>\n",
       "      <th>1</th>\n",
       "      <td>OnePlus</td>\n",
       "      <td>Nord</td>\n",
       "      <td>Black Dusk</td>\n",
       "      <td>6 GB RAM</td>\n",
       "      <td>128 GB ROM</td>\n",
       "      <td>64MP Rear Camera</td>\n",
       "      <td>16.74 cm (6.59 inch) Display</td>\n",
       "      <td>5000 mAh Battery</td>\n",
       "      <td>₹19,970</td>\n",
       "      <td>https://www.flipkart.com/oneplus-nord-ce-2-lit...</td>\n",
       "    </tr>\n",
       "    <tr>\n",
       "      <th>2</th>\n",
       "      <td>OnePlus</td>\n",
       "      <td>Nord</td>\n",
       "      <td>Blue Tide</td>\n",
       "      <td>6 GB RAM</td>\n",
       "      <td>128 GB ROM</td>\n",
       "      <td>64MP Rear Camera</td>\n",
       "      <td>16.74 cm (6.59 inch) Display</td>\n",
       "      <td>5000 mAh Battery</td>\n",
       "      <td>₹19,957</td>\n",
       "      <td>https://www.flipkart.com/oneplus-nord-ce-2-lit...</td>\n",
       "    </tr>\n",
       "    <tr>\n",
       "      <th>3</th>\n",
       "      <td>OnePlus</td>\n",
       "      <td>Nord</td>\n",
       "      <td>Black Dusk</td>\n",
       "      <td>6 GB RAM</td>\n",
       "      <td>128 MB ROM</td>\n",
       "      <td>64MP Rear Camera</td>\n",
       "      <td>16.74 cm (6.59 inch) Display</td>\n",
       "      <td>5000 mAh Battery</td>\n",
       "      <td>₹19,895</td>\n",
       "      <td>https://www.flipkart.com/oneplus-nord-ce-2-lit...</td>\n",
       "    </tr>\n",
       "    <tr>\n",
       "      <th>4</th>\n",
       "      <td>OnePlus</td>\n",
       "      <td>Nord</td>\n",
       "      <td>Blue Tide</td>\n",
       "      <td>6 GB RAM</td>\n",
       "      <td>128 GB ROM</td>\n",
       "      <td>64MP Rear Camera | 16MP Front Camera</td>\n",
       "      <td>16.74 cm (6.59 inch) HD+ Display</td>\n",
       "      <td>5000 mAh Battery</td>\n",
       "      <td>₹19,999</td>\n",
       "      <td>https://www.flipkart.com/oneplus-nord-ce-2-lit...</td>\n",
       "    </tr>\n",
       "    <tr>\n",
       "      <th>5</th>\n",
       "      <td>OnePlus</td>\n",
       "      <td>Nord</td>\n",
       "      <td>Black Dusk</td>\n",
       "      <td>6 GB RAM</td>\n",
       "      <td>128 GB ROM</td>\n",
       "      <td>64MP Rear Camera</td>\n",
       "      <td>16.74 cm (6.59 inch) Display</td>\n",
       "      <td>5000 mAh Battery</td>\n",
       "      <td>₹19,888</td>\n",
       "      <td>https://www.flipkart.com/oneplus-nord-ce-2-lit...</td>\n",
       "    </tr>\n",
       "    <tr>\n",
       "      <th>6</th>\n",
       "      <td>OnePlus</td>\n",
       "      <td>Nord</td>\n",
       "      <td>Jade Fog</td>\n",
       "      <td>8 GB RAM</td>\n",
       "      <td>128 GB ROM</td>\n",
       "      <td>50MP Rear Camera</td>\n",
       "      <td>17.02 cm (6.7 inch) Display</td>\n",
       "      <td>4500 mAh Battery</td>\n",
       "      <td>₹28,999</td>\n",
       "      <td>https://www.flipkart.com/oneplus-nord-2t-5g-ja...</td>\n",
       "    </tr>\n",
       "    <tr>\n",
       "      <th>7</th>\n",
       "      <td>OnePlus</td>\n",
       "      <td>Nord</td>\n",
       "      <td>Bahama Blue</td>\n",
       "      <td>8 GB RAM</td>\n",
       "      <td>128 GB ROM</td>\n",
       "      <td>64MP Rear Camera</td>\n",
       "      <td>16.33 cm (6.43 inch) Display</td>\n",
       "      <td>4500 mAh Battery</td>\n",
       "      <td>₹24,998</td>\n",
       "      <td>https://www.flipkart.com/oneplus-nord-ce-2-5g-...</td>\n",
       "    </tr>\n",
       "    <tr>\n",
       "      <th>8</th>\n",
       "      <td>OnePlus</td>\n",
       "      <td>Nord</td>\n",
       "      <td>Charcoal Ink</td>\n",
       "      <td>6 GB RAM</td>\n",
       "      <td>128 GB ROM</td>\n",
       "      <td>64MP Rear Camera</td>\n",
       "      <td>16.33 cm (6.43 inch) Display</td>\n",
       "      <td>4500 mAh Battery</td>\n",
       "      <td>₹20,899</td>\n",
       "      <td>https://www.flipkart.com/oneplus-nord-ce-5g-ch...</td>\n",
       "    </tr>\n",
       "    <tr>\n",
       "      <th>9</th>\n",
       "      <td>OnePlus</td>\n",
       "      <td>Nord</td>\n",
       "      <td>PAC-MAN</td>\n",
       "      <td>12 GB RAM</td>\n",
       "      <td>256 GB ROM</td>\n",
       "      <td>50MP Rear Camera</td>\n",
       "      <td>16.33 cm (6.43 inch) Display</td>\n",
       "      <td>4500 mAh Battery</td>\n",
       "      <td>₹37,999</td>\n",
       "      <td>https://www.flipkart.com/oneplus-nord-2-5g-pac...</td>\n",
       "    </tr>\n",
       "    <tr>\n",
       "      <th>10</th>\n",
       "      <td>OnePlus</td>\n",
       "      <td>Nord</td>\n",
       "      <td>Gray Sierra</td>\n",
       "      <td>12 GB RAM</td>\n",
       "      <td>256 GB ROM</td>\n",
       "      <td>50MP Rear Camera</td>\n",
       "      <td>16.33 cm (6.43 inch) Display</td>\n",
       "      <td>4500 mAh Battery</td>\n",
       "      <td>₹34,499</td>\n",
       "      <td>https://www.flipkart.com/oneplus-nord-2-5g-gra...</td>\n",
       "    </tr>\n",
       "    <tr>\n",
       "      <th>11</th>\n",
       "      <td>OnePlus</td>\n",
       "      <td>Nord</td>\n",
       "      <td>Jade Fog</td>\n",
       "      <td>12 GB RAM</td>\n",
       "      <td>256 GB ROM</td>\n",
       "      <td>50MP Rear Camera</td>\n",
       "      <td>17.02 cm (6.7 inch) Display</td>\n",
       "      <td>4500 mAh Battery</td>\n",
       "      <td>₹33,999</td>\n",
       "      <td>https://www.flipkart.com/oneplus-nord-2t-5g-ja...</td>\n",
       "    </tr>\n",
       "    <tr>\n",
       "      <th>12</th>\n",
       "      <td>OnePlus</td>\n",
       "      <td>Nord</td>\n",
       "      <td>Green Wood</td>\n",
       "      <td>12 GB RAM</td>\n",
       "      <td>256 GB ROM</td>\n",
       "      <td>50MP Rear Camera</td>\n",
       "      <td>16.33 cm (6.43 inch) Display</td>\n",
       "      <td>4500 mAh Battery</td>\n",
       "      <td>₹34,499</td>\n",
       "      <td>https://www.flipkart.com/oneplus-nord-2-5g-gre...</td>\n",
       "    </tr>\n",
       "    <tr>\n",
       "      <th>13</th>\n",
       "      <td>OnePlus</td>\n",
       "      <td>Nord</td>\n",
       "      <td>Blue Tide</td>\n",
       "      <td>6 GB RAM</td>\n",
       "      <td>128 GB ROM</td>\n",
       "      <td>64MP Rear Camera</td>\n",
       "      <td>16.74 cm (6.59 inch) Display</td>\n",
       "      <td>5000 mAh Battery</td>\n",
       "      <td>₹19,900</td>\n",
       "      <td>https://www.flipkart.com/oneplus-nord-ce-2-lit...</td>\n",
       "    </tr>\n",
       "    <tr>\n",
       "      <th>14</th>\n",
       "      <td>OnePlus</td>\n",
       "      <td>Nord</td>\n",
       "      <td>Gray Shadow</td>\n",
       "      <td>12 GB RAM</td>\n",
       "      <td>256 GB ROM</td>\n",
       "      <td>50MP Rear Camera</td>\n",
       "      <td>16.94 cm (6.67 inch) Display</td>\n",
       "      <td>4500 mAh Battery</td>\n",
       "      <td>₹33,869</td>\n",
       "      <td>https://www.flipkart.com/oneplus-nord-2t-5g-gr...</td>\n",
       "    </tr>\n",
       "    <tr>\n",
       "      <th>15</th>\n",
       "      <td>OnePlus</td>\n",
       "      <td>Nord</td>\n",
       "      <td>Gray Shadow</td>\n",
       "      <td>8 GB RAM</td>\n",
       "      <td>128 GB ROM</td>\n",
       "      <td>50MP Rear Camera</td>\n",
       "      <td>17.02 cm (6.7 inch) Display</td>\n",
       "      <td>4500 mAh Battery</td>\n",
       "      <td>₹28,999</td>\n",
       "      <td>https://www.flipkart.com/oneplus-nord-2t-5g-gr...</td>\n",
       "    </tr>\n",
       "    <tr>\n",
       "      <th>16</th>\n",
       "      <td>OnePlus</td>\n",
       "      <td>Nord</td>\n",
       "      <td>Jade Fog</td>\n",
       "      <td>8 GB RAM</td>\n",
       "      <td>128 GB ROM</td>\n",
       "      <td>50MP Rear Camera</td>\n",
       "      <td>17.02 cm (6.7 inch) Display</td>\n",
       "      <td>4500 mAh Battery</td>\n",
       "      <td>₹28,999</td>\n",
       "      <td>https://www.flipkart.com/oneplus-nord-2t-5g-ja...</td>\n",
       "    </tr>\n",
       "    <tr>\n",
       "      <th>17</th>\n",
       "      <td>OnePlus</td>\n",
       "      <td>Nord</td>\n",
       "      <td>Jade Fog</td>\n",
       "      <td>12 GB RAM</td>\n",
       "      <td>256 GB ROM</td>\n",
       "      <td>50MP Rear Camera</td>\n",
       "      <td>17.02 cm (6.7 inch) Display</td>\n",
       "      <td>4500 mAh Battery</td>\n",
       "      <td>₹33,999</td>\n",
       "      <td>https://www.flipkart.com/oneplus-nord-2t-5g-ja...</td>\n",
       "    </tr>\n",
       "    <tr>\n",
       "      <th>18</th>\n",
       "      <td>OnePlus</td>\n",
       "      <td>Nord</td>\n",
       "      <td>Gray Shadow</td>\n",
       "      <td>12 GB RAM</td>\n",
       "      <td>256 GB ROM</td>\n",
       "      <td>50MP Rear Camera</td>\n",
       "      <td>17.02 cm (6.7 inch) Display</td>\n",
       "      <td>4500 mAh Battery</td>\n",
       "      <td>₹33,860</td>\n",
       "      <td>https://www.flipkart.com/oneplus-nord-2t-5g-gr...</td>\n",
       "    </tr>\n",
       "    <tr>\n",
       "      <th>19</th>\n",
       "      <td>OnePlus</td>\n",
       "      <td>Nord</td>\n",
       "      <td>Gray Onyx</td>\n",
       "      <td>12 GB RAM</td>\n",
       "      <td>256 GB ROM</td>\n",
       "      <td>48MP + 8MP | 32MP + 8MP Dual Front Camera</td>\n",
       "      <td>16.36 cm (6.44 inch) Full HD+ Display</td>\n",
       "      <td>4115 mAh Battery</td>\n",
       "      <td>₹29,999</td>\n",
       "      <td>https://www.flipkart.com/oneplus-nord-gray-ony...</td>\n",
       "    </tr>\n",
       "    <tr>\n",
       "      <th>20</th>\n",
       "      <td>OnePlus</td>\n",
       "      <td>Nord</td>\n",
       "      <td>Gray Onyx</td>\n",
       "      <td>6 GB RAM</td>\n",
       "      <td>64 GB ROM</td>\n",
       "      <td>48MP + 8MP | 32MP + 8MP Dual Front Camera</td>\n",
       "      <td>16.36 cm (6.44 inch) Full HD+ Display</td>\n",
       "      <td>4115 mAh Battery</td>\n",
       "      <td>₹24,999</td>\n",
       "      <td>https://www.flipkart.com/oneplus-nord-gray-ony...</td>\n",
       "    </tr>\n",
       "    <tr>\n",
       "      <th>21</th>\n",
       "      <td>OnePlus</td>\n",
       "      <td>Nord</td>\n",
       "      <td>Blue Marble</td>\n",
       "      <td>12 GB RAM</td>\n",
       "      <td>256 GB ROM</td>\n",
       "      <td>48MP + 8MP | 32MP + 8MP Dual Front Camera</td>\n",
       "      <td>16.36 cm (6.44 inch) Full HD+ Display</td>\n",
       "      <td>4115 mAh Battery</td>\n",
       "      <td>₹29,999</td>\n",
       "      <td>https://www.flipkart.com/oneplus-nord-blue-mar...</td>\n",
       "    </tr>\n",
       "    <tr>\n",
       "      <th>22</th>\n",
       "      <td>OnePlus</td>\n",
       "      <td>Nord</td>\n",
       "      <td>Gray Onyx</td>\n",
       "      <td>8 GB RAM</td>\n",
       "      <td>128 GB ROM</td>\n",
       "      <td>48MP + 8MP | 32MP + 8MP Dual Front Camera</td>\n",
       "      <td>16.36 cm (6.44 inch) Full HD+ Display</td>\n",
       "      <td>4115 mAh Battery</td>\n",
       "      <td>₹27,999</td>\n",
       "      <td>https://www.flipkart.com/oneplus-nord-gray-ony...</td>\n",
       "    </tr>\n",
       "    <tr>\n",
       "      <th>23</th>\n",
       "      <td>OnePlus</td>\n",
       "      <td>Nord</td>\n",
       "      <td>Blue Marble</td>\n",
       "      <td>8 GB RAM</td>\n",
       "      <td>128 GB ROM</td>\n",
       "      <td>48MP + 8MP | 32MP + 8MP Dual Front Camera</td>\n",
       "      <td>16.36 cm (6.44 inch) Full HD+ Display</td>\n",
       "      <td>4115 mAh Battery</td>\n",
       "      <td>₹27,999</td>\n",
       "      <td>https://www.flipkart.com/oneplus-nord-blue-mar...</td>\n",
       "    </tr>\n",
       "  </tbody>\n",
       "</table>\n",
       "</div>"
      ],
      "text/plain": [
       "   Brand Name Smart Phone Name        Colour         RAM          ROM  \\\n",
       "0     OnePlus             Nord     Blue Tide   6 GB RAM    128 GB ROM   \n",
       "1     OnePlus             Nord    Black Dusk   6 GB RAM    128 GB ROM   \n",
       "2     OnePlus             Nord     Blue Tide   6 GB RAM    128 GB ROM   \n",
       "3     OnePlus             Nord    Black Dusk   6 GB RAM    128 MB ROM   \n",
       "4     OnePlus             Nord     Blue Tide   6 GB RAM    128 GB ROM   \n",
       "5     OnePlus             Nord    Black Dusk   6 GB RAM    128 GB ROM   \n",
       "6     OnePlus             Nord      Jade Fog   8 GB RAM    128 GB ROM   \n",
       "7     OnePlus             Nord   Bahama Blue   8 GB RAM    128 GB ROM   \n",
       "8     OnePlus             Nord  Charcoal Ink   6 GB RAM    128 GB ROM   \n",
       "9     OnePlus             Nord       PAC-MAN  12 GB RAM    256 GB ROM   \n",
       "10    OnePlus             Nord   Gray Sierra  12 GB RAM    256 GB ROM   \n",
       "11    OnePlus             Nord      Jade Fog  12 GB RAM    256 GB ROM   \n",
       "12    OnePlus             Nord    Green Wood  12 GB RAM    256 GB ROM   \n",
       "13    OnePlus             Nord     Blue Tide   6 GB RAM    128 GB ROM   \n",
       "14    OnePlus             Nord   Gray Shadow  12 GB RAM    256 GB ROM   \n",
       "15    OnePlus             Nord   Gray Shadow   8 GB RAM    128 GB ROM   \n",
       "16    OnePlus             Nord      Jade Fog   8 GB RAM    128 GB ROM   \n",
       "17    OnePlus             Nord      Jade Fog  12 GB RAM    256 GB ROM   \n",
       "18    OnePlus             Nord   Gray Shadow  12 GB RAM    256 GB ROM   \n",
       "19    OnePlus             Nord     Gray Onyx  12 GB RAM    256 GB ROM   \n",
       "20    OnePlus             Nord     Gray Onyx   6 GB RAM     64 GB ROM   \n",
       "21    OnePlus             Nord   Blue Marble  12 GB RAM    256 GB ROM   \n",
       "22    OnePlus             Nord     Gray Onyx   8 GB RAM    128 GB ROM   \n",
       "23    OnePlus             Nord   Blue Marble   8 GB RAM    128 GB ROM   \n",
       "\n",
       "                                       Camera  \\\n",
       "0                            64MP Rear Camera   \n",
       "1                            64MP Rear Camera   \n",
       "2                            64MP Rear Camera   \n",
       "3                            64MP Rear Camera   \n",
       "4        64MP Rear Camera | 16MP Front Camera   \n",
       "5                            64MP Rear Camera   \n",
       "6                            50MP Rear Camera   \n",
       "7                            64MP Rear Camera   \n",
       "8                            64MP Rear Camera   \n",
       "9                            50MP Rear Camera   \n",
       "10                           50MP Rear Camera   \n",
       "11                           50MP Rear Camera   \n",
       "12                           50MP Rear Camera   \n",
       "13                           64MP Rear Camera   \n",
       "14                           50MP Rear Camera   \n",
       "15                           50MP Rear Camera   \n",
       "16                           50MP Rear Camera   \n",
       "17                           50MP Rear Camera   \n",
       "18                           50MP Rear Camera   \n",
       "19  48MP + 8MP | 32MP + 8MP Dual Front Camera   \n",
       "20  48MP + 8MP | 32MP + 8MP Dual Front Camera   \n",
       "21  48MP + 8MP | 32MP + 8MP Dual Front Camera   \n",
       "22  48MP + 8MP | 32MP + 8MP Dual Front Camera   \n",
       "23  48MP + 8MP | 32MP + 8MP Dual Front Camera   \n",
       "\n",
       "                             Display Size           Battery    Price  \\\n",
       "0            16.74 cm (6.59 inch) Display  5000 mAh Battery  ₹19,879   \n",
       "1            16.74 cm (6.59 inch) Display  5000 mAh Battery  ₹19,970   \n",
       "2            16.74 cm (6.59 inch) Display  5000 mAh Battery  ₹19,957   \n",
       "3            16.74 cm (6.59 inch) Display  5000 mAh Battery  ₹19,895   \n",
       "4        16.74 cm (6.59 inch) HD+ Display  5000 mAh Battery  ₹19,999   \n",
       "5            16.74 cm (6.59 inch) Display  5000 mAh Battery  ₹19,888   \n",
       "6             17.02 cm (6.7 inch) Display  4500 mAh Battery  ₹28,999   \n",
       "7            16.33 cm (6.43 inch) Display  4500 mAh Battery  ₹24,998   \n",
       "8            16.33 cm (6.43 inch) Display  4500 mAh Battery  ₹20,899   \n",
       "9            16.33 cm (6.43 inch) Display  4500 mAh Battery  ₹37,999   \n",
       "10           16.33 cm (6.43 inch) Display  4500 mAh Battery  ₹34,499   \n",
       "11            17.02 cm (6.7 inch) Display  4500 mAh Battery  ₹33,999   \n",
       "12           16.33 cm (6.43 inch) Display  4500 mAh Battery  ₹34,499   \n",
       "13           16.74 cm (6.59 inch) Display  5000 mAh Battery  ₹19,900   \n",
       "14           16.94 cm (6.67 inch) Display  4500 mAh Battery  ₹33,869   \n",
       "15            17.02 cm (6.7 inch) Display  4500 mAh Battery  ₹28,999   \n",
       "16            17.02 cm (6.7 inch) Display  4500 mAh Battery  ₹28,999   \n",
       "17            17.02 cm (6.7 inch) Display  4500 mAh Battery  ₹33,999   \n",
       "18            17.02 cm (6.7 inch) Display  4500 mAh Battery  ₹33,860   \n",
       "19  16.36 cm (6.44 inch) Full HD+ Display  4115 mAh Battery  ₹29,999   \n",
       "20  16.36 cm (6.44 inch) Full HD+ Display  4115 mAh Battery  ₹24,999   \n",
       "21  16.36 cm (6.44 inch) Full HD+ Display  4115 mAh Battery  ₹29,999   \n",
       "22  16.36 cm (6.44 inch) Full HD+ Display  4115 mAh Battery  ₹27,999   \n",
       "23  16.36 cm (6.44 inch) Full HD+ Display  4115 mAh Battery  ₹27,999   \n",
       "\n",
       "                                         Product link  \n",
       "0   https://www.flipkart.com/oneplus-nord-ce-2-lit...  \n",
       "1   https://www.flipkart.com/oneplus-nord-ce-2-lit...  \n",
       "2   https://www.flipkart.com/oneplus-nord-ce-2-lit...  \n",
       "3   https://www.flipkart.com/oneplus-nord-ce-2-lit...  \n",
       "4   https://www.flipkart.com/oneplus-nord-ce-2-lit...  \n",
       "5   https://www.flipkart.com/oneplus-nord-ce-2-lit...  \n",
       "6   https://www.flipkart.com/oneplus-nord-2t-5g-ja...  \n",
       "7   https://www.flipkart.com/oneplus-nord-ce-2-5g-...  \n",
       "8   https://www.flipkart.com/oneplus-nord-ce-5g-ch...  \n",
       "9   https://www.flipkart.com/oneplus-nord-2-5g-pac...  \n",
       "10  https://www.flipkart.com/oneplus-nord-2-5g-gra...  \n",
       "11  https://www.flipkart.com/oneplus-nord-2t-5g-ja...  \n",
       "12  https://www.flipkart.com/oneplus-nord-2-5g-gre...  \n",
       "13  https://www.flipkart.com/oneplus-nord-ce-2-lit...  \n",
       "14  https://www.flipkart.com/oneplus-nord-2t-5g-gr...  \n",
       "15  https://www.flipkart.com/oneplus-nord-2t-5g-gr...  \n",
       "16  https://www.flipkart.com/oneplus-nord-2t-5g-ja...  \n",
       "17  https://www.flipkart.com/oneplus-nord-2t-5g-ja...  \n",
       "18  https://www.flipkart.com/oneplus-nord-2t-5g-gr...  \n",
       "19  https://www.flipkart.com/oneplus-nord-gray-ony...  \n",
       "20  https://www.flipkart.com/oneplus-nord-gray-ony...  \n",
       "21  https://www.flipkart.com/oneplus-nord-blue-mar...  \n",
       "22  https://www.flipkart.com/oneplus-nord-gray-ony...  \n",
       "23  https://www.flipkart.com/oneplus-nord-blue-mar...  "
      ]
     },
     "execution_count": 30,
     "metadata": {},
     "output_type": "execute_result"
    }
   ],
   "source": [
    "#Data Frame for all the fetched details\n",
    "\n",
    "flip_df = pd.DataFrame({\"Brand Name\": brand, \"Smart Phone Name\":smart_phone, \"Colour\":colour_name, \"RAM\":RAM, \"ROM\":ROM, \"Camera\":camera, \"Display Size\":display, \"Battery\":Battery, \"Price\":price, \"Product link\":P_URL})\n",
    "flip_df                        "
   ]
  },
  {
   "cell_type": "code",
   "execution_count": 31,
   "metadata": {},
   "outputs": [],
   "source": [
    "#flip_df.to_csv(r\"D:\\Amir Ali\\Data Science Backup\\FlipKart Smartphone.csv\")\n",
    "#csv file has been created at the given location"
   ]
  },
  {
   "cell_type": "code",
   "execution_count": 32,
   "metadata": {},
   "outputs": [],
   "source": [
    "flip_driver.close()"
   ]
  },
  {
   "cell_type": "markdown",
   "metadata": {},
   "source": [
    "5. Write a program to scrap geospatial coordinates (latitude, longitude) of a city searched on google\n",
    "maps."
   ]
  },
  {
   "cell_type": "code",
   "execution_count": 33,
   "metadata": {},
   "outputs": [],
   "source": [
    "gmap = webdriver.Chrome(r\"D:\\chromedriver.exe\")\n",
    "gmap.maximize_window()\n",
    "gmap.get(\"https://www.google.com/maps\")\n",
    "time.sleep(2)\n"
   ]
  },
  {
   "cell_type": "code",
   "execution_count": 34,
   "metadata": {},
   "outputs": [],
   "source": [
    "search_bar = gmap.find_element(By.XPATH, \"/html/body/div[3]/div[9]/div[3]/div[1]/div[1]/div/div[2]/form/input[1]\")\n",
    "search_bar.send_keys(\"Delhi\")\n",
    "time.sleep(1)\n",
    "submit_button = gmap.find_element(By.XPATH, \"/html/body/div[3]/div[9]/div[3]/div[1]/div[1]/div/div[2]/div[1]/button\")\n",
    "submit_button.click()\n",
    "time.sleep(2)"
   ]
  },
  {
   "cell_type": "code",
   "execution_count": 35,
   "metadata": {},
   "outputs": [
    {
     "name": "stdout",
     "output_type": "stream",
     "text": [
      "latitude, longitude are =  27.1416735 , 80.8833819\n"
     ]
    }
   ],
   "source": [
    "#As suggested on doubt clearing session we can use current url\n",
    "\n",
    "url_string = gmap.current_url\n",
    "url = url_string.split(\"@\")[1]\n",
    "print(\"latitude, longitude are = \", url.split(\",\")[0], \",\", url.split(\",\")[1])"
   ]
  },
  {
   "cell_type": "code",
   "execution_count": 36,
   "metadata": {},
   "outputs": [],
   "source": [
    "gmap.close()"
   ]
  },
  {
   "cell_type": "markdown",
   "metadata": {},
   "source": [
    "6. Write a program to scrap details of all the funding deals for second quarter (i.e Jan 21 – March 21) \n",
    "from trak.in"
   ]
  },
  {
   "cell_type": "code",
   "execution_count": 37,
   "metadata": {},
   "outputs": [],
   "source": [
    "trak_driver = webdriver.Chrome(\"D:\\chromedriver.exe\")\n",
    "trak_driver.maximize_window()"
   ]
  },
  {
   "cell_type": "code",
   "execution_count": 38,
   "metadata": {},
   "outputs": [],
   "source": [
    "# menu_click = trak_driver.find_element(By.XPATH, \"/html/body/header/div[2]/div/div/a[1]\")\n",
    "# menu_click.click()"
   ]
  },
  {
   "cell_type": "code",
   "execution_count": 39,
   "metadata": {},
   "outputs": [],
   "source": [
    "trak_driver.get(\"https://trak.in/stories/\")\n",
    "time.sleep(2)\n",
    "funding_deal = trak_driver.find_element(By.XPATH, \"/html/body/header/div[3]/div/div/div[1]/nav/div[2]/div/ul/li[9]/a\")\n",
    "funding_deal.click()\n",
    "time.sleep(1)\n",
    "\n",
    "#There is no data available inside \"Funding Deals"
   ]
  },
  {
   "cell_type": "code",
   "execution_count": 40,
   "metadata": {},
   "outputs": [],
   "source": [
    "trak_driver.close()"
   ]
  },
  {
   "cell_type": "markdown",
   "metadata": {},
   "source": [
    "7. Write a program to scrap all the available details of best gaming laptops from digit.in"
   ]
  },
  {
   "cell_type": "code",
   "execution_count": 41,
   "metadata": {},
   "outputs": [],
   "source": [
    "digit_driver = webdriver.Chrome(\"D:\\chromedriver.exe\")\n",
    "digit_driver.maximize_window()"
   ]
  },
  {
   "cell_type": "code",
   "execution_count": 42,
   "metadata": {},
   "outputs": [],
   "source": [
    "digit_driver.get(\"https://www.digit.in/\")\n",
    "time.sleep(2)"
   ]
  },
  {
   "cell_type": "code",
   "execution_count": 43,
   "metadata": {},
   "outputs": [],
   "source": [
    "laptops = digit_driver.find_element(By.XPATH, \"/html/body/div[1]/div/div[4]/ul/li[3]/a\")\n",
    "laptops.click()\n",
    "time.sleep(1)"
   ]
  },
  {
   "cell_type": "code",
   "execution_count": 44,
   "metadata": {},
   "outputs": [],
   "source": [
    "gaming_laptop = digit_driver.find_element(By.XPATH, \"/html/body/div[6]/div/div[2]/div[2]/ul/li[10]/a\")\n",
    "gaming_laptop.click()\n",
    "time.sleep(2)"
   ]
  },
  {
   "cell_type": "code",
   "execution_count": 45,
   "metadata": {},
   "outputs": [
    {
     "name": "stdout",
     "output_type": "stream",
     "text": [
      "['MSI Titan GT77-12UHS', 'Alienware X17 R2', 'Acer Predator Triton 500 SE PT516-52s', 'Omen By HP (16-B1371TX)', 'Acer Predator Helios 300 AN515-45', 'MSI Delta 15 (A5EFK-083IN)', 'Omen By HP (16-C0141AX)', 'Lenovo Legion 5i Pro (82RF00MGIN)', 'Alienware M15 R5 Ryzen Edition Icc-C780001win', 'Lenovo Slim 7 Gen 6 (82K8002JIN)']\n"
     ]
    }
   ],
   "source": [
    "laptop_name = []\n",
    "laptopnames = digit_driver.find_elements(By.XPATH, \"//div[@class = 'left_side']/a\")\n",
    "for i in laptopnames:\n",
    "    laptop_name.append(i.text)\n",
    "print(laptop_name)"
   ]
  },
  {
   "cell_type": "code",
   "execution_count": 46,
   "metadata": {},
   "outputs": [
    {
     "name": "stdout",
     "output_type": "stream",
     "text": [
      "['Windows 11 Home OS', '17.3\" (3840 x 2160) Display', '12th Gen Intel Core i9-12900HX | NA Processor', '2 TB SSD/64 GB DDR5 Memory', 'Windows 11 Home OS', '17.3\" (1920 x 1080) Display', '12th Gen Intel Core i9-12900H | 5 GHz Processor', '1 TB SSD/32 GB DDR5 Memory', 'Windows 11 OS', '16\" (2560 x 1600) Display', '12th Gen Intel Core i7-12700H | 3.5 GHz Processor', '2 TB SSD/32 GB DDR5 Memory', 'Windows 11 Home OS', '16.1\" (2560 x 1440) Display', '12th Gen Intel Core i7-12700H | 4.7 GHz Processor', '1 TB SSD/8 GB DDR5 Memory', 'Windows 11 Home OS', '15.6\" (2560 x 1440) Display', 'AMD Ryzen 9-5900HX | NA Processor', '512 GB SSD/16 GB DDR4 Memory', 'Windows 11 Home OS', '15.6\" (1920 x 1080) Display', 'AMD 5th Gen Ryzen 9-5900HX | 3.3GHz Processor', '1 TB SSD/16 GBGB DDR4 Memory', 'Windows 11 Home OS', '16.1\" (2560 x 1440) Display', 'AMD Ryzen™ 9 5900HX | 3.3 GHz Processor', '1 TB NVMe/16 GB DDR4 Memory', 'Windows 11 Home OS', '16\" (2560 x 1600) Display', '12th Gen Intel Core i7-12700H | 2.3 GHz Processor', '1 TB SSD/16 GB DDR5 Memory', 'Windows 11 Home OS', '15.6\" (1920 x 1080) Display', 'AMD Ryzen R7-5800H | 4.40 GHz Processor', '512 GB SSD/16 GB DDR4 Memory', 'Windows 11 Home OS', '15.6 MP | NA Display', 'Lenovo Ryzen 7-5800H | 3.2 GHz Processor', '1 TB SSD/16 GB DDR4 Memory']\n"
     ]
    }
   ],
   "source": [
    "available_details = []\n",
    "\n",
    "other_info = digit_driver.find_elements(By.XPATH, \"//div[@class = 'Wrap-pop']\")\n",
    "\n",
    "for i in other_info:\n",
    "    available_details.append(i.text)\n",
    "print(available_details)"
   ]
  },
  {
   "cell_type": "code",
   "execution_count": 47,
   "metadata": {},
   "outputs": [],
   "source": [
    "digit_driver.close()"
   ]
  },
  {
   "cell_type": "markdown",
   "metadata": {},
   "source": [
    "8. Write a python program to scrape the details for all billionaires from www.forbes.com. Details to be \n",
    "scrapped: “Rank”, “Name”, “Net worth”, “Age”, “Citizenship”, “Source”, “Industry”."
   ]
  },
  {
   "cell_type": "code",
   "execution_count": 48,
   "metadata": {},
   "outputs": [],
   "source": [
    "forbes_driver = webdriver.Chrome(\"D:\\chromedriver.exe\")\n",
    "forbes_driver.maximize_window()"
   ]
  },
  {
   "cell_type": "code",
   "execution_count": 49,
   "metadata": {},
   "outputs": [],
   "source": [
    "forbes_driver.get(\"https://www.forbes.com/\")\n",
    "time.sleep(5)"
   ]
  },
  {
   "cell_type": "code",
   "execution_count": 50,
   "metadata": {},
   "outputs": [],
   "source": [
    "menu = forbes_driver.find_element(By.XPATH, \"//div[@class = '_69hVhdY4']\")\n",
    "menu.click()\n",
    "time.sleep(3)"
   ]
  },
  {
   "cell_type": "code",
   "execution_count": 51,
   "metadata": {},
   "outputs": [],
   "source": [
    "viewall_b = forbes_driver.find_element(By.XPATH, \"/html/body/div[1]/header/nav/div[1]/div/div/div[2]/ul/li[1]/div[1]\")\n",
    "viewall_b.click()\n",
    "time.sleep(2)"
   ]
  },
  {
   "cell_type": "code",
   "execution_count": 52,
   "metadata": {},
   "outputs": [],
   "source": [
    "world_billion = forbes_driver.find_element(By.XPATH, \"/html/body/div[1]/main/div/section/section[1]/div/div/div[1]/div/div[1]/div[1]/div[2]\")\n",
    "world_billion.click()\n",
    "time.sleep(3)\n",
    "\n"
   ]
  },
  {
   "cell_type": "code",
   "execution_count": 53,
   "metadata": {},
   "outputs": [],
   "source": [
    "# singup_close = forbes_driver.find_element(By.XPATH, \"/html/body/div[8]/div/button\")\n",
    "# singup_close.click()"
   ]
  },
  {
   "cell_type": "code",
   "execution_count": 54,
   "metadata": {},
   "outputs": [],
   "source": [
    "rank = []\n",
    "ranks = forbes_driver.find_elements(By.XPATH, \"//div[@class = 'rank']\")\n",
    "for i in ranks:\n",
    "    rank.append(i.text)\n",
    "#print(rank)"
   ]
  },
  {
   "cell_type": "code",
   "execution_count": 55,
   "metadata": {},
   "outputs": [],
   "source": [
    "name = []\n",
    "names = forbes_driver.find_elements(By.XPATH, \"//div[@class = 'personName']\")\n",
    "for i in names:\n",
    "    name.append(i.text)\n",
    "#print(name)"
   ]
  },
  {
   "cell_type": "code",
   "execution_count": 56,
   "metadata": {},
   "outputs": [],
   "source": [
    "networth = []\n",
    "net_worth = forbes_driver.find_elements(By.XPATH, \"//div[@class = 'netWorth']\")\n",
    "for i in net_worth:\n",
    "    networth.append(i.text)\n",
    "#print(networth)"
   ]
  },
  {
   "cell_type": "code",
   "execution_count": 57,
   "metadata": {},
   "outputs": [],
   "source": [
    "age = []\n",
    "ages = forbes_driver.find_elements(By.XPATH, \"//div[@class = 'age']/div\")\n",
    "for i in ages:\n",
    "    #print(i.text)\n",
    "    age.append(i.text)\n",
    "#print(age)\n",
    "\n",
    "#/html/body/div[1]/div[1]/div/div[2]/div[3]/div[2]/div[2]/div[2]/div[1]/div[2]/div[1]/div[4]/div"
   ]
  },
  {
   "cell_type": "code",
   "execution_count": 58,
   "metadata": {},
   "outputs": [],
   "source": [
    "citizenship = []\n",
    "citizenships = forbes_driver.find_elements(By.XPATH, \"//div[@class = 'countryOfCitizenship']\")\n",
    "for i in citizenships:\n",
    "    citizenship.append(i.text)\n",
    "#print(citizenship)"
   ]
  },
  {
   "cell_type": "code",
   "execution_count": 59,
   "metadata": {},
   "outputs": [],
   "source": [
    "source = []\n",
    "sources = forbes_driver.find_elements(By.XPATH, \"//span[@class = 'source-text']\")\n",
    "for i in sources:\n",
    "    source.append(i.text)\n",
    "#print(source)"
   ]
  },
  {
   "cell_type": "code",
   "execution_count": 60,
   "metadata": {},
   "outputs": [],
   "source": [
    "industry = []\n",
    "industries = forbes_driver.find_elements(By.XPATH, \"//div[@class = 'category']/div\")\n",
    "for i in industries:\n",
    "    industry.append(i.text)\n",
    "#print(industry)"
   ]
  },
  {
   "cell_type": "code",
   "execution_count": 61,
   "metadata": {},
   "outputs": [
    {
     "data": {
      "text/html": [
       "<div>\n",
       "<style scoped>\n",
       "    .dataframe tbody tr th:only-of-type {\n",
       "        vertical-align: middle;\n",
       "    }\n",
       "\n",
       "    .dataframe tbody tr th {\n",
       "        vertical-align: top;\n",
       "    }\n",
       "\n",
       "    .dataframe thead th {\n",
       "        text-align: right;\n",
       "    }\n",
       "</style>\n",
       "<table border=\"1\" class=\"dataframe\">\n",
       "  <thead>\n",
       "    <tr style=\"text-align: right;\">\n",
       "      <th></th>\n",
       "      <th>Rank</th>\n",
       "      <th>Name</th>\n",
       "      <th>Networth</th>\n",
       "      <th>Age</th>\n",
       "      <th>Cizinship</th>\n",
       "      <th>Income Source</th>\n",
       "      <th>industry</th>\n",
       "    </tr>\n",
       "  </thead>\n",
       "  <tbody>\n",
       "    <tr>\n",
       "      <th>0</th>\n",
       "      <td>1.</td>\n",
       "      <td>Elon Musk</td>\n",
       "      <td>$219 B</td>\n",
       "      <td>50</td>\n",
       "      <td>United States</td>\n",
       "      <td>Tesla, SpaceX</td>\n",
       "      <td>Automotive</td>\n",
       "    </tr>\n",
       "    <tr>\n",
       "      <th>1</th>\n",
       "      <td>2.</td>\n",
       "      <td>Jeff Bezos</td>\n",
       "      <td>$171 B</td>\n",
       "      <td>58</td>\n",
       "      <td>United States</td>\n",
       "      <td>Amazon</td>\n",
       "      <td>Technology</td>\n",
       "    </tr>\n",
       "    <tr>\n",
       "      <th>2</th>\n",
       "      <td>3.</td>\n",
       "      <td>Bernard Arnault &amp; family</td>\n",
       "      <td>$158 B</td>\n",
       "      <td>73</td>\n",
       "      <td>France</td>\n",
       "      <td>LVMH</td>\n",
       "      <td>Fashion &amp; Retail</td>\n",
       "    </tr>\n",
       "    <tr>\n",
       "      <th>3</th>\n",
       "      <td>4.</td>\n",
       "      <td>Bill Gates</td>\n",
       "      <td>$129 B</td>\n",
       "      <td>66</td>\n",
       "      <td>United States</td>\n",
       "      <td>Microsoft</td>\n",
       "      <td>Technology</td>\n",
       "    </tr>\n",
       "    <tr>\n",
       "      <th>4</th>\n",
       "      <td>5.</td>\n",
       "      <td>Warren Buffett</td>\n",
       "      <td>$118 B</td>\n",
       "      <td>91</td>\n",
       "      <td>United States</td>\n",
       "      <td>Berkshire Hathaway</td>\n",
       "      <td>Finance &amp; Investments</td>\n",
       "    </tr>\n",
       "    <tr>\n",
       "      <th>...</th>\n",
       "      <td>...</td>\n",
       "      <td>...</td>\n",
       "      <td>...</td>\n",
       "      <td>...</td>\n",
       "      <td>...</td>\n",
       "      <td>...</td>\n",
       "      <td>...</td>\n",
       "    </tr>\n",
       "    <tr>\n",
       "      <th>195</th>\n",
       "      <td>192.</td>\n",
       "      <td>Marcel Herrmann Telles</td>\n",
       "      <td>$10.3 B</td>\n",
       "      <td>72</td>\n",
       "      <td>Brazil</td>\n",
       "      <td>beer</td>\n",
       "      <td>Food &amp; Beverage</td>\n",
       "    </tr>\n",
       "    <tr>\n",
       "      <th>196</th>\n",
       "      <td>197.</td>\n",
       "      <td>Leon Black</td>\n",
       "      <td>$10 B</td>\n",
       "      <td>70</td>\n",
       "      <td>United States</td>\n",
       "      <td>private equity</td>\n",
       "      <td>Finance &amp; Investments</td>\n",
       "    </tr>\n",
       "    <tr>\n",
       "      <th>197</th>\n",
       "      <td>197.</td>\n",
       "      <td>Joe Gebbia</td>\n",
       "      <td>$10 B</td>\n",
       "      <td>40</td>\n",
       "      <td>United States</td>\n",
       "      <td>Airbnb</td>\n",
       "      <td>Technology</td>\n",
       "    </tr>\n",
       "    <tr>\n",
       "      <th>198</th>\n",
       "      <td>197.</td>\n",
       "      <td>David Geffen</td>\n",
       "      <td>$10 B</td>\n",
       "      <td>79</td>\n",
       "      <td>United States</td>\n",
       "      <td>movies, record labels</td>\n",
       "      <td>Media &amp; Entertainment</td>\n",
       "    </tr>\n",
       "    <tr>\n",
       "      <th>199</th>\n",
       "      <td>197.</td>\n",
       "      <td>Yu Renrong</td>\n",
       "      <td>$10 B</td>\n",
       "      <td>56</td>\n",
       "      <td>China</td>\n",
       "      <td>semiconductors</td>\n",
       "      <td>Manufacturing</td>\n",
       "    </tr>\n",
       "  </tbody>\n",
       "</table>\n",
       "<p>200 rows × 7 columns</p>\n",
       "</div>"
      ],
      "text/plain": [
       "     Rank                      Name Networth Age      Cizinship  \\\n",
       "0      1.                 Elon Musk   $219 B  50  United States   \n",
       "1      2.                Jeff Bezos   $171 B  58  United States   \n",
       "2      3.  Bernard Arnault & family   $158 B  73         France   \n",
       "3      4.                Bill Gates   $129 B  66  United States   \n",
       "4      5.            Warren Buffett   $118 B  91  United States   \n",
       "..    ...                       ...      ...  ..            ...   \n",
       "195  192.    Marcel Herrmann Telles  $10.3 B  72         Brazil   \n",
       "196  197.                Leon Black    $10 B  70  United States   \n",
       "197  197.                Joe Gebbia    $10 B  40  United States   \n",
       "198  197.              David Geffen    $10 B  79  United States   \n",
       "199  197.                Yu Renrong    $10 B  56          China   \n",
       "\n",
       "             Income Source               industry  \n",
       "0            Tesla, SpaceX             Automotive  \n",
       "1                   Amazon             Technology  \n",
       "2                     LVMH       Fashion & Retail  \n",
       "3                Microsoft             Technology  \n",
       "4       Berkshire Hathaway  Finance & Investments  \n",
       "..                     ...                    ...  \n",
       "195                   beer        Food & Beverage  \n",
       "196         private equity  Finance & Investments  \n",
       "197                 Airbnb             Technology  \n",
       "198  movies, record labels  Media & Entertainment  \n",
       "199         semiconductors          Manufacturing  \n",
       "\n",
       "[200 rows x 7 columns]"
      ]
     },
     "execution_count": 61,
     "metadata": {},
     "output_type": "execute_result"
    }
   ],
   "source": [
    "df = pd.DataFrame({\"Rank\":rank, \"Name\":name, \"Networth\": networth, \"Age\":age, \"Cizinship\":citizenship, \"Income Source\": source, \"industry\": industry})\n",
    "df"
   ]
  },
  {
   "cell_type": "code",
   "execution_count": 62,
   "metadata": {},
   "outputs": [],
   "source": [
    "forbes_driver.close()"
   ]
  },
  {
   "cell_type": "markdown",
   "metadata": {},
   "source": [
    "9. Write a program to extract at least 500 Comments, Comment upvote and time when comment was posted \n",
    "from any YouTube Video"
   ]
  },
  {
   "cell_type": "code",
   "execution_count": 63,
   "metadata": {},
   "outputs": [],
   "source": [
    "yt_driver = webdriver.Chrome(\"D:\\chromedriver.exe\")\n",
    "yt_driver.maximize_window()"
   ]
  },
  {
   "cell_type": "code",
   "execution_count": 64,
   "metadata": {},
   "outputs": [],
   "source": [
    "yt_driver.get(\"https://www.youtube.com/\")\n",
    "time.sleep(5)"
   ]
  },
  {
   "cell_type": "code",
   "execution_count": 65,
   "metadata": {},
   "outputs": [],
   "source": [
    "search_bar = yt_driver.find_element(By.XPATH, \"/html/body/ytd-app/div[1]/div/ytd-masthead/div[3]/div[2]/ytd-searchbox/form/div[1]/div[1]/input\")\n",
    "search_bar.send_keys(\"how to lodge complaint on pg portal\")\n",
    "time.sleep(2)\n",
    "\n",
    "submit_button = yt_driver.find_element(By.XPATH, \"/html/body/ytd-app/div[1]/div/ytd-masthead/div[3]/div[2]/ytd-searchbox/button\")\n",
    "submit_button.click()\n",
    "time.sleep(10)\n"
   ]
  },
  {
   "cell_type": "code",
   "execution_count": 66,
   "metadata": {},
   "outputs": [],
   "source": [
    "play_video = yt_driver.find_element(By.XPATH, \"/html/body/ytd-app/div[1]/ytd-page-manager/ytd-search/div[1]/ytd-two-column-search-results-renderer/div[2]/div/ytd-section-list-renderer/div[2]/ytd-item-section-renderer/div[3]/ytd-video-renderer[1]/div[1]/ytd-thumbnail\")\n",
    "play_video.click()\n",
    "time.sleep(10)"
   ]
  },
  {
   "cell_type": "code",
   "execution_count": 67,
   "metadata": {},
   "outputs": [],
   "source": [
    "# scroll_pause_time = 1 # You can set your own pause time. My laptop is a bit slow so I use 1 sec\n",
    "# screen_height = yt_driver.execute_script(\"return window.screen.height;\")   # get the screen height of the web\n",
    "# i = 1\n",
    "\n",
    "# while True:\n",
    "#     # scroll one screen height each time\n",
    "#     yt_driver.execute_script(\"window.scrollTo(0, {screen_height}*{i});\".format(screen_height=screen_height, i=i))  \n",
    "#     i += 1\n",
    "#     time.sleep(scroll_pause_time)\n",
    "#     # update scroll height each time after scrolled, as the scroll height can change after we scrolled the page\n",
    "#     scroll_height = yt_driver.execute_script(\"return document.body.scrollHeight;\")  \n",
    "#     # Break the loop when the height we need to scroll to is larger than the total scroll height"
   ]
  },
  {
   "cell_type": "code",
   "execution_count": 68,
   "metadata": {},
   "outputs": [],
   "source": [
    "for _ in range(0, 1000):\n",
    "    yt_driver.execute_script(\"window.scrollBy(0,1000)\")\n",
    "    "
   ]
  },
  {
   "cell_type": "code",
   "execution_count": 69,
   "metadata": {},
   "outputs": [
    {
     "name": "stdout",
     "output_type": "stream",
     "text": [
      "[]\n"
     ]
    }
   ],
   "source": [
    "comment = []\n",
    "comments = yt_driver.find_elements(By.ID, \"content-text\")\n",
    "for i in comments[0:500]:\n",
    "    comment.append(i.text)\n",
    "print(comment)\n",
    "    "
   ]
  },
  {
   "cell_type": "code",
   "execution_count": 70,
   "metadata": {},
   "outputs": [
    {
     "name": "stdout",
     "output_type": "stream",
     "text": [
      "0\n"
     ]
    }
   ],
   "source": [
    "print(len(comment))"
   ]
  },
  {
   "cell_type": "code",
   "execution_count": 71,
   "metadata": {},
   "outputs": [],
   "source": [
    "yt_driver.close()"
   ]
  },
  {
   "cell_type": "markdown",
   "metadata": {},
   "source": [
    "10.Write a python program to scrape a data for all available Hostels from https://www.hostelworld.com/ in \n",
    "“London” location. You have to scrape hostel name, distance from city centre, ratings, total reviews, \n",
    "overall reviews, privates from price, dorms from price, facilities and property description"
   ]
  },
  {
   "cell_type": "code",
   "execution_count": 72,
   "metadata": {},
   "outputs": [],
   "source": [
    "hostel_driver = webdriver.Chrome(\"D:\\chrmoedriver.exe\")\n",
    "hostel_driver.maximize_window()"
   ]
  },
  {
   "cell_type": "code",
   "execution_count": 73,
   "metadata": {},
   "outputs": [],
   "source": [
    "hostel_driver.get(\"https://www.hostelworld.com/\")\n",
    "time.sleep(5)"
   ]
  },
  {
   "cell_type": "code",
   "execution_count": 74,
   "metadata": {},
   "outputs": [],
   "source": [
    "icon = hostel_driver.find_element(By.XPATH, \"/html/body/div[3]/div/div/div[2]/div[2]/div/div/div[4]/div/div[2]/div/div[1]/div/input\")\n",
    "icon.click()"
   ]
  },
  {
   "cell_type": "code",
   "execution_count": 75,
   "metadata": {},
   "outputs": [],
   "source": [
    "search_bar = hostel_driver.find_element(By.XPATH, \"//div[@class = 'search']/input\")\n",
    "#search_bar.click()\n",
    "#time.sleep(1)\n",
    "search_bar.send_keys(\"London\")\n",
    "time.sleep(3)"
   ]
  },
  {
   "cell_type": "code",
   "execution_count": 76,
   "metadata": {},
   "outputs": [],
   "source": [
    "loc_search = hostel_driver.find_element(By.XPATH, \"/html/body/div[3]/div/div/div[2]/div[2]/div/div/div[4]/div/div[2]/div/div[1]/div/div/ul/li[2]\")\n",
    "loc_search.click()"
   ]
  },
  {
   "cell_type": "code",
   "execution_count": 77,
   "metadata": {},
   "outputs": [],
   "source": [
    "submit_button = hostel_driver.find_element(By.XPATH, \"/html/body/div[3]/div/div/div[2]/div[2]/div/div/div[4]/div/div[2]/div/div[5]/button\")\n",
    "submit_button.click()\n",
    "time.sleep(5)"
   ]
  },
  {
   "cell_type": "code",
   "execution_count": 78,
   "metadata": {},
   "outputs": [
    {
     "name": "stdout",
     "output_type": "stream",
     "text": [
      "[\"Wombat's City Hostel London\", \"St Christopher's Village\", 'Hostel One Notting Hill', 'Urbany Hostel London', 'Generator London', 'Safestay London Elephant & Castle', 'Smart Russell Square Hostel', \"St Christopher's Camden\", 'No.8 Seven Sisters', 'No.8 Willesden Hostel London', 'Smart Hyde Park Inn Hostel', 'Safestay London Kensington Holland Park', 'NX London Hostel', 'Astor Museum Inn', 'Smart Camden Inn Hostel', 'Phoenix Hostel', \"St Christopher's Hammersmith\", 'Smart Hyde Park View Hostel', 'Queen Elizabeth Chelsea', 'Astor Victoria', 'Prime Backpackers Angel', 'International Students House', 'Saint James Backpackers', \"St Christopher's Greenwich\", 'Clink261', \"St Christopher's Shepherds Bush\", 'PubLove @ The Steam Engine, Waterloo', 'Strand Continental', 'PubLove @ The White Ferry, Victoria', 'Book a Bed Hostels']\n"
     ]
    }
   ],
   "source": [
    "hostel_name = []\n",
    "hostelnames = hostel_driver.find_elements(By.XPATH, \"//h2[@class = 'title title-6']\")\n",
    "for i in hostelnames:\n",
    "    hostel_name.append(i.text)\n",
    "print(hostel_name)"
   ]
  },
  {
   "cell_type": "code",
   "execution_count": 79,
   "metadata": {},
   "outputs": [
    {
     "name": "stdout",
     "output_type": "stream",
     "text": [
      "[' 3.6km from city centre', ' 1.8km from city centre', ' 3.6km from city centre Show on Map', ' 1.8km from city centre Show on Map', ' 5.5km from city centre Show on Map', ' 5.4km from city centre Show on Map', ' 3km from city centre Show on Map', ' 1.7km from city centre Show on Map', ' 2.6km from city centre Show on Map', ' 4.3km from city centre Show on Map', ' 9km from city centre Show on Map', ' 10km from city centre Show on Map', ' 5km from city centre Show on Map', ' 5.9km from city centre Show on Map', ' 6.1km from city centre Show on Map', ' 2.2km from city centre Show on Map', ' 4.4km from city centre Show on Map', ' 4.2km from city centre Show on Map', ' 7.5km from city centre Show on Map', ' 5km from city centre Show on Map', ' 5.7km from city centre Show on Map', ' 1.8km from city centre Show on Map', ' 3.6km from city centre Show on Map', ' 3.3km from city centre Show on Map', ' 5.5km from city centre Show on Map', ' 7.6km from city centre Show on Map', ' 3.2km from city centre Show on Map', ' 7km from city centre Show on Map', ' 0.5km from city centre Show on Map', ' 1.3km from city centre Show on Map', ' 2.4km from city centre Show on Map', ' 6.9km from city centre Show on Map']\n"
     ]
    }
   ],
   "source": [
    "#Distance from central City\n",
    "distance = []\n",
    "distance_cc = hostel_driver.find_elements(By.XPATH, \"//div[@class = 'subtitle body-3']\")\n",
    "for i in distance_cc:\n",
    "    distance.append(i.text.split(\"-\")[1])\n",
    "print(distance)"
   ]
  },
  {
   "cell_type": "code",
   "execution_count": 80,
   "metadata": {},
   "outputs": [
    {
     "name": "stdout",
     "output_type": "stream",
     "text": [
      "['8.9', '8.0', '9.3', '9.2', '7.7', '7.3', '7.1', '8.2', '5.4', '6.8', '7.5', '7.0', '7.5', '8.0', '8.4', '7.0', '7.7', '7.9', '7.1', '7.8', '8.2', '9.0', '7.5', '7.2', '7.9', '7.1', '8.1', '6.9', '7.7', '5.9']\n",
      "['Fabulous', 'Fabulous', 'Superb', 'Superb', 'Very Good', 'Very Good', 'Very Good', 'Fabulous', 'Rating', 'Good', 'Very Good', 'Very Good', 'Very Good', 'Fabulous', 'Fabulous', 'Very Good', 'Very Good', 'Very Good', 'Very Good', 'Very Good', 'Fabulous', 'Superb', 'Very Good', 'Very Good', 'Very Good', 'Very Good', 'Fabulous', 'Good', 'Very Good', 'Rating']\n",
      "['14419 Total Reviews', '11768 Total Reviews', '1638 Total Reviews', '577 Total Reviews', '7296 Total Reviews', '4735 Total Reviews', '9848 Total Reviews', '3931 Total Reviews', '3930 Total Reviews', '4914 Total Reviews', '6452 Total Reviews', '1401 Total Reviews', '1422 Total Reviews', '9135 Total Reviews', '3001 Total Reviews', '3905 Total Reviews', '4175 Total Reviews', '4648 Total Reviews', '3371 Total Reviews', '14867 Total Reviews', '698 Total Reviews', '1010 Total Reviews', '1855 Total Reviews', '3290 Total Reviews', '173 Total Reviews', '740 Total Reviews', '346 Total Reviews', '923 Total Reviews', '309 Total Reviews', '1224 Total Reviews']\n"
     ]
    }
   ],
   "source": [
    "#ratting\n",
    "ratting = []\n",
    "review_type = []\n",
    "total_reviews = []\n",
    "h_ratting = hostel_driver.find_elements(By.XPATH, \"//div[@class = 'bottom-rating']\")\n",
    "for i in h_ratting:\n",
    "    ratting.append(i.text.split(\"\\n\")[0])\n",
    "    review_type.append(i.text.split(\"\\n\")[1])\n",
    "    total_reviews.append(i.text.split(\"\\n\")[2])\n",
    "print(ratting)\n",
    "print(review_type)\n",
    "print(total_reviews)\n",
    "\n"
   ]
  },
  {
   "cell_type": "code",
   "execution_count": 81,
   "metadata": {},
   "outputs": [
    {
     "ename": "NameError",
     "evalue": "name 'form_price' is not defined",
     "output_type": "error",
     "traceback": [
      "\u001b[1;31m---------------------------------------------------------------------------\u001b[0m",
      "\u001b[1;31mNameError\u001b[0m                                 Traceback (most recent call last)",
      "\u001b[1;32m<ipython-input-81-6a63aa930f1f>\u001b[0m in \u001b[0;36m<module>\u001b[1;34m\u001b[0m\n\u001b[0;32m      4\u001b[0m \u001b[1;32mfor\u001b[0m \u001b[0mi\u001b[0m \u001b[1;32min\u001b[0m \u001b[0md_price\u001b[0m\u001b[1;33m:\u001b[0m\u001b[1;33m\u001b[0m\u001b[1;33m\u001b[0m\u001b[0m\n\u001b[0;32m      5\u001b[0m     \u001b[0mdrom_forms\u001b[0m\u001b[1;33m.\u001b[0m\u001b[0mappend\u001b[0m\u001b[1;33m(\u001b[0m\u001b[0mi\u001b[0m\u001b[1;33m.\u001b[0m\u001b[0mtext\u001b[0m\u001b[1;33m.\u001b[0m\u001b[0msplit\u001b[0m\u001b[1;33m(\u001b[0m\u001b[1;34m\"\\n\"\u001b[0m\u001b[1;33m)\u001b[0m\u001b[1;33m)\u001b[0m\u001b[1;33m\u001b[0m\u001b[1;33m\u001b[0m\u001b[0m\n\u001b[1;32m----> 6\u001b[1;33m     \u001b[0mform_price\u001b[0m\u001b[1;33m.\u001b[0m\u001b[0mappend\u001b[0m\u001b[1;33m(\u001b[0m\u001b[0mi\u001b[0m\u001b[1;33m.\u001b[0m\u001b[0mtext\u001b[0m\u001b[1;33m.\u001b[0m\u001b[0msplit\u001b[0m\u001b[1;33m(\u001b[0m\u001b[1;34m\"\\n\"\u001b[0m\u001b[1;33m)\u001b[0m\u001b[1;33m)\u001b[0m\u001b[1;33m\u001b[0m\u001b[1;33m\u001b[0m\u001b[0m\n\u001b[0m\u001b[0;32m      7\u001b[0m \u001b[1;31m#print(drom_forms)\u001b[0m\u001b[1;33m\u001b[0m\u001b[1;33m\u001b[0m\u001b[1;33m\u001b[0m\u001b[0m\n",
      "\u001b[1;31mNameError\u001b[0m: name 'form_price' is not defined"
     ]
    }
   ],
   "source": [
    "#price\n",
    "drom_forms = []\n",
    "d_price = hostel_driver.find_elements(By.XPATH, \"//div[@class = 'price-col']\")\n",
    "for i in d_price:\n",
    "    drom_forms.append(i.text.split(\"\\n\"))\n",
    "    form_price.append(i.text.split(\"\\n\"))\n",
    "#print(drom_forms)"
   ]
  },
  {
   "cell_type": "code",
   "execution_count": null,
   "metadata": {},
   "outputs": [],
   "source": [
    "df =pd.DataFrame(drom_forms)\n",
    "df.columns = [\"Type\", \"Price\"]\n",
    "df"
   ]
  },
  {
   "cell_type": "code",
   "execution_count": null,
   "metadata": {},
   "outputs": [],
   "source": [
    "#facilities and property description\n",
    "facilities_in_h = []\n",
    "facilities = hostel_driver.find_elements(By.XPATH, \"//div[@class = 'facilities-label facilities']\")\n",
    "for i in facilities:\n",
    "    facilities_in_h.append(i.text)\n",
    "facilities_in_h\n",
    "    "
   ]
  },
  {
   "cell_type": "code",
   "execution_count": null,
   "metadata": {},
   "outputs": [],
   "source": [
    "hostel_driver.close()"
   ]
  },
  {
   "cell_type": "code",
   "execution_count": null,
   "metadata": {},
   "outputs": [],
   "source": []
  },
  {
   "cell_type": "code",
   "execution_count": null,
   "metadata": {},
   "outputs": [],
   "source": []
  },
  {
   "cell_type": "code",
   "execution_count": null,
   "metadata": {},
   "outputs": [],
   "source": []
  },
  {
   "cell_type": "code",
   "execution_count": null,
   "metadata": {},
   "outputs": [],
   "source": []
  }
 ],
 "metadata": {
  "kernelspec": {
   "display_name": "Python 3",
   "language": "python",
   "name": "python3"
  },
  "language_info": {
   "codemirror_mode": {
    "name": "ipython",
    "version": 3
   },
   "file_extension": ".py",
   "mimetype": "text/x-python",
   "name": "python",
   "nbconvert_exporter": "python",
   "pygments_lexer": "ipython3",
   "version": "3.8.5"
  }
 },
 "nbformat": 4,
 "nbformat_minor": 4
}
